{
 "cells": [
  {
   "cell_type": "code",
   "execution_count": 1,
   "metadata": {},
   "outputs": [],
   "source": [
    "import os\n",
    "import pandas as pd\n",
    "import numpy as np\n",
    "import cv2\n",
    "import torch\n",
    "import torch.nn as nn\n",
    "import torch.optim as optim\n",
    "import torchvision.transforms as transforms\n",
    "from torch.utils.data import Dataset, DataLoader\n",
    "from sklearn.model_selection import train_test_split\n",
    "from sklearn.preprocessing import LabelEncoder\n",
    "from torchvision.models import resnet50\n",
    "\n",
    "# Define a custom dataset class\n",
    "class CustomDataset(Dataset):\n",
    "    def __init__(self, images, labels, transform=None):\n",
    "        self.images = images\n",
    "        self.labels = labels\n",
    "        self.transform = transform\n",
    "\n",
    "    def __len__(self):\n",
    "        return len(self.images)\n",
    "\n",
    "    def __getitem__(self, idx):\n",
    "        image = self.images[idx]\n",
    "        label = self.labels[idx]\n",
    "\n",
    "        if self.transform:\n",
    "            image = self.transform(image)\n",
    "\n",
    "        return image, label"
   ]
  },
  {
   "cell_type": "markdown",
   "metadata": {},
   "source": [
    "## Step 1: Data Preparation"
   ]
  },
  {
   "cell_type": "code",
   "execution_count": 2,
   "metadata": {},
   "outputs": [],
   "source": [
    "import os\n",
    "import cv2\n",
    "\n",
    "# data_dir = \"G:\\\\Yehmh\\\\DNDF\\\\202309_DNDF\\\\species_dbh\"\n",
    "data_dir = 'h:\\\\Yehmh\\\\fish'\n",
    "\n",
    "X = []  # Features\n",
    "y = []  # Labels\n",
    "\n",
    "for folder in os.listdir(data_dir):\n",
    "    if os.path.isdir(os.path.join(data_dir, folder)):  # Check if it's a directory\n",
    "        species = folder  # Assuming folder name is the species label\n",
    "        species_dir = os.path.join(data_dir, folder)\n",
    "        for file in os.listdir(species_dir):\n",
    "            if file.endswith(\".jpg\"):\n",
    "                image_path = os.path.join(species_dir, file)\n",
    "                image = cv2.imread(image_path)\n",
    "                if image is not None and image.size != 0:  # Check if image is not empty\n",
    "                    image = cv2.resize(image, (224, 224))  # Resize image to 224x224\n",
    "                    X.append(image)\n",
    "                    y.append(species)\n",
    "                else:\n",
    "                    print(f\"Failed to read or empty image: {image_path}\")\n"
   ]
  },
  {
   "cell_type": "code",
   "execution_count": 3,
   "metadata": {},
   "outputs": [
    {
     "name": "stdout",
     "output_type": "stream",
     "text": [
      "241 241\n"
     ]
    }
   ],
   "source": [
    "print(len(X), len(y))"
   ]
  },
  {
   "cell_type": "markdown",
   "metadata": {},
   "source": [
    "## Step 2: Data Preprocessing"
   ]
  },
  {
   "cell_type": "code",
   "execution_count": 4,
   "metadata": {},
   "outputs": [],
   "source": [
    "label_encoder = LabelEncoder()\n",
    "y = label_encoder.fit_transform(y)\n",
    "X_train, X_test, y_train, y_test = train_test_split(X, y, test_size=0.2, random_state=42)"
   ]
  },
  {
   "cell_type": "code",
   "execution_count": 5,
   "metadata": {},
   "outputs": [
    {
     "name": "stdout",
     "output_type": "stream",
     "text": [
      "['0+ Aged' '1+ Aged']\n",
      "[0 0 0 0 0 0 0 0 0 0 0 0 0 0 0 0 0 0 0 0 0 0 0 0 0 0 0 0 0 0 0 0 0 0 0 0 0\n",
      " 0 0 0 0 0 0 0 0 0 0 0 0 0 0 0 0 0 0 0 0 0 0 0 0 0 0 0 0 0 0 0 0 0 0 0 0 0\n",
      " 0 0 0 0 0 0 0 0 0 0 0 0 0 0 0 0 0 0 0 0 0 0 0 0 0 0 0 0 0 0 0 0 0 0 0 0 0\n",
      " 0 0 0 0 0 0 0 0 0 0 0 0 0 0 0 0 0 0 0 0 0 0 0 0 0 0 0 0 0 0 0 0 0 0 0 0 0\n",
      " 0 0 0 0 0 0 0 0 0 0 0 0 0 0 0 0 0 0 0 0 0 0 0 0 0 0 0 0 1 1 1 1 1 1 1 1 1\n",
      " 1 1 1 1 1 1 1 1 1 1 1 1 1 1 1 1 1 1 1 1 1 1 1 1 1 1 1 1 1 1 1 1 1 1 1 1 1\n",
      " 1 1 1 1 1 1 1 1 1 1 1 1 1 1 1 1 1 1 1]\n",
      "192 49\n"
     ]
    }
   ],
   "source": [
    "print(label_encoder.classes_)\n",
    "print(y)\n",
    "print(len(X_train), len(X_test))"
   ]
  },
  {
   "cell_type": "markdown",
   "metadata": {},
   "source": [
    "## Step 3: Define transformations and create datasets"
   ]
  },
  {
   "cell_type": "code",
   "execution_count": 7,
   "metadata": {},
   "outputs": [],
   "source": [
    "# # Define transform for ResNet-50\n",
    "# transform_resnet = transforms.Compose([\n",
    "#     transforms.ToPILImage(),  # Convert to PIL Image\n",
    "#     transforms.Resize((224, 224)),  # Resize to 224x224\n",
    "#     transforms.ToTensor(),  # Convert image to PyTorch tensor\n",
    "#     transforms.Normalize(mean=[0.485, 0.456, 0.406], std=[0.229, 0.224, 0.225])  # Normalize image data\n",
    "# ])\n",
    "\n",
    "# # Apply transform_resnet for ResNet-50\n",
    "# train_dataset = CustomDataset(X_train, y_train, transform=transform_resnet)\n",
    "# test_dataset = CustomDataset(X_test, y_test, transform=transform_resnet)"
   ]
  },
  {
   "cell_type": "code",
   "execution_count": 8,
   "metadata": {},
   "outputs": [],
   "source": [
    "# Data Augmentation ------\n",
    "\n",
    "train_transform = transforms.Compose([\n",
    "    transforms.ToPILImage(),  # Convert to PIL Image\n",
    "    transforms.RandomHorizontalFlip(),  # Randomly flip the images horizontally\n",
    "    transforms.RandomRotation(degrees=15),  # Randomly rotate the images by up to 15 degrees\n",
    "    transforms.RandomCrop(size=(224, 224), padding=4),  # Randomly crop a 224x224 region of the image with padding\n",
    "    transforms.ToTensor(),  # Convert image to PyTorch tensor\n",
    "    transforms.Normalize(mean=[0.485, 0.456, 0.406], std=[0.229, 0.224, 0.225])  # Normalize image data\n",
    "])\n",
    "\n",
    "test_transform = transforms.Compose([\n",
    "    transforms.ToPILImage(),  # Convert to PIL Image\n",
    "    transforms.Resize((224, 224)),  # Resize image to 224x224\n",
    "    transforms.ToTensor(),  # Convert image to PyTorch tensor\n",
    "    transforms.Normalize(mean=[0.485, 0.456, 0.406], std=[0.229, 0.224, 0.225])  # Normalize image data\n",
    "])\n",
    "\n",
    "train_dataset = CustomDataset(X_train, y_train, transform=train_transform)\n",
    "test_dataset = CustomDataset(X_test, y_test, transform=test_transform)"
   ]
  },
  {
   "cell_type": "markdown",
   "metadata": {},
   "source": [
    "## Step 4: Create data loaders"
   ]
  },
  {
   "cell_type": "code",
   "execution_count": 9,
   "metadata": {},
   "outputs": [],
   "source": [
    "batch_size = 32\n",
    "\n",
    "train_loader = DataLoader(train_dataset, batch_size=batch_size, shuffle=True)\n",
    "test_loader = DataLoader(test_dataset, batch_size=batch_size, shuffle=False)\n",
    "# test_loader is created with shuffle=False. \n",
    "# Ensures that the evaluation process remains consistent across different evaluations \n",
    "# and that the model is tested on the same data distribution every time"
   ]
  },
  {
   "cell_type": "markdown",
   "metadata": {},
   "source": [
    "## Step 5: Define the CNN model"
   ]
  },
  {
   "cell_type": "code",
   "execution_count": 10,
   "metadata": {},
   "outputs": [
    {
     "name": "stdout",
     "output_type": "stream",
     "text": [
      "(224, 224, 3)\n"
     ]
    }
   ],
   "source": [
    "print(image.shape)"
   ]
  },
  {
   "cell_type": "code",
   "execution_count": 11,
   "metadata": {},
   "outputs": [],
   "source": [
    "class ResNet50(nn.Module):\n",
    "    def __init__(self, num_classes):\n",
    "        super(ResNet50, self).__init__()\n",
    "        self.resnet = resnet50(pretrained=True)  # Load pretrained ResNet-50\n",
    "        # Replace the last fully connected layer with a new one\n",
    "        num_ftrs = self.resnet.fc.in_features\n",
    "        self.resnet.fc = nn.Linear(num_ftrs, num_classes)\n",
    "\n",
    "    def forward(self, x):\n",
    "        return self.resnet(x)"
   ]
  },
  {
   "cell_type": "markdown",
   "metadata": {},
   "source": [
    "## Step 6: Initialize model. loss function, and optimizer"
   ]
  },
  {
   "cell_type": "code",
   "execution_count": 12,
   "metadata": {},
   "outputs": [
    {
     "name": "stderr",
     "output_type": "stream",
     "text": [
      "c:\\Users\\user\\.conda\\envs\\RS\\lib\\site-packages\\torchvision\\models\\_utils.py:208: UserWarning: The parameter 'pretrained' is deprecated since 0.13 and may be removed in the future, please use 'weights' instead.\n",
      "  warnings.warn(\n",
      "c:\\Users\\user\\.conda\\envs\\RS\\lib\\site-packages\\torchvision\\models\\_utils.py:223: UserWarning: Arguments other than a weight enum or `None` for 'weights' are deprecated since 0.13 and may be removed in the future. The current behavior is equivalent to passing `weights=ResNet50_Weights.IMAGENET1K_V1`. You can also use `weights=ResNet50_Weights.DEFAULT` to get the most up-to-date weights.\n",
      "  warnings.warn(msg)\n"
     ]
    }
   ],
   "source": [
    "model = ResNet50(num_classes=len(label_encoder.classes_))\n",
    "criterion = nn.CrossEntropyLoss()\n",
    "optimizer = optim.Adam(model.parameters(), lr=0.001)"
   ]
  },
  {
   "cell_type": "code",
   "execution_count": 13,
   "metadata": {},
   "outputs": [
    {
     "name": "stdout",
     "output_type": "stream",
     "text": [
      "2\n"
     ]
    }
   ],
   "source": [
    "print(len(label_encoder.classes_))"
   ]
  },
  {
   "cell_type": "markdown",
   "metadata": {},
   "source": [
    "## Step 7: Train the model"
   ]
  },
  {
   "cell_type": "code",
   "execution_count": 14,
   "metadata": {},
   "outputs": [
    {
     "name": "stdout",
     "output_type": "stream",
     "text": [
      "Epoch [1/15], Loss: 0.7133743017911911, Accuracy: 0.7916666666666666\n",
      "Epoch [2/15], Loss: 0.7513493249813715, Accuracy: 0.6979166666666666\n",
      "Epoch [3/15], Loss: 0.47755054632822674, Accuracy: 0.6875\n",
      "Epoch [4/15], Loss: 0.41338146726290387, Accuracy: 0.765625\n",
      "Epoch [5/15], Loss: 0.41907473653554916, Accuracy: 0.7708333333333334\n",
      "Epoch [6/15], Loss: 0.32041330138842267, Accuracy: 0.796875\n",
      "Epoch [7/15], Loss: 0.3768899589776993, Accuracy: 0.7760416666666666\n",
      "Epoch [8/15], Loss: 0.3357733314236005, Accuracy: 0.8177083333333334\n",
      "Epoch [9/15], Loss: 0.3100876659154892, Accuracy: 0.8385416666666666\n",
      "Epoch [10/15], Loss: 0.27916935086250305, Accuracy: 0.84375\n",
      "Epoch [11/15], Loss: 0.29038039843241376, Accuracy: 0.8541666666666666\n",
      "Epoch [12/15], Loss: 0.25083951900402707, Accuracy: 0.875\n",
      "Epoch [13/15], Loss: 0.2986009841163953, Accuracy: 0.875\n",
      "Epoch [14/15], Loss: 0.294086458782355, Accuracy: 0.8541666666666666\n",
      "Epoch [15/15], Loss: 0.33592403928438824, Accuracy: 0.8489583333333334\n"
     ]
    },
    {
     "data": {
      "image/png": "[encoded data removed]",
      "text/plain": [
       "<Figure size 1000x500 with 2 Axes>"
      ]
     },
     "metadata": {},
     "output_type": "display_data"
    }
   ],
   "source": [
    "import matplotlib.pyplot as plt\n",
    "\n",
    "num_epochs = 15\n",
    "train_losses = []\n",
    "train_accuracies = []\n",
    "\n",
    "for epoch in range(num_epochs):\n",
    "    model.train()\n",
    "    correct = 0\n",
    "    total = 0\n",
    "    epoch_loss = 0.0\n",
    "    \n",
    "    for images, labels in train_loader:\n",
    "        optimizer.zero_grad()   # Zero the gradient\n",
    "        outputs = model(images) # Forward pass: compute predicted outputs\n",
    "        loss = criterion(outputs, labels) # Compute the loss\n",
    "        loss.backward()     # Backward pass: compute gradient of the loss with respect to model parameters\n",
    "        optimizer.step()    # Update the model parameters based on the gradients\n",
    "        \n",
    "        _, predicted = torch.max(outputs.data, 1)\n",
    "        total += labels.size(0)\n",
    "        correct += (predicted == labels).sum().item()\n",
    "        epoch_loss += loss.item()\n",
    "\n",
    "    train_accuracy = correct / total\n",
    "    train_loss = epoch_loss / len(train_loader)\n",
    "    train_accuracies.append(train_accuracy)\n",
    "    train_losses.append(train_loss)\n",
    "\n",
    "    print(f\"Epoch [{epoch + 1}/{num_epochs}], Loss: {train_loss}, Accuracy: {train_accuracy}\")\n",
    "\n",
    "# Plotting\n",
    "plt.figure(figsize=(10, 5))\n",
    "plt.subplot(1, 2, 1)\n",
    "plt.plot(range(1, num_epochs + 1), train_losses, label='Training Loss')\n",
    "plt.xlabel('Epoch')\n",
    "plt.ylabel('Loss')\n",
    "plt.title('Training Loss')\n",
    "\n",
    "plt.subplot(1, 2, 2)\n",
    "plt.plot(range(1, num_epochs + 1), train_accuracies, label='Training Accuracy')\n",
    "plt.xlabel('Epoch')\n",
    "plt.ylabel('Accuracy')\n",
    "plt.title('Training Accuracy')\n",
    "\n",
    "plt.tight_layout()\n",
    "plt.show()\n"
   ]
  },
  {
   "cell_type": "markdown",
   "metadata": {},
   "source": [
    "## Step 8: Evaluate the model"
   ]
  },
  {
   "cell_type": "code",
   "execution_count": 16,
   "metadata": {},
   "outputs": [
    {
     "name": "stdout",
     "output_type": "stream",
     "text": [
      "Predicted: 0, Actual: 1\n",
      "Predicted: 0, Actual: 1\n",
      "Predicted: 0, Actual: 1\n",
      "Predicted: 0, Actual: 1\n",
      "Predicted: 0, Actual: 1\n",
      "Predicted: 1, Actual: 0\n",
      "Predicted: 0, Actual: 1\n",
      "Predicted: 0, Actual: 1\n",
      "Predicted: 0, Actual: 1\n",
      "Test Accuracy: 81.63%\n"
     ]
    }
   ],
   "source": [
    "model.eval()\n",
    "correct = 0\n",
    "total = 0\n",
    "with torch.no_grad():\n",
    "    for images, labels in test_loader:\n",
    "        outputs = model(images)\n",
    "        _, predicted = torch.max(outputs.data, 1)\n",
    "        total += labels.size(0)\n",
    "        correct += (predicted == labels).sum().item()\n",
    "\n",
    "        # Print the predicted and actual labels\n",
    "        for i in range(len(labels)):\n",
    "            if predicted[i] != labels[i]:\n",
    "                print(\"Predicted: {}, Actual: {}\".format(predicted[i], labels[i]))\n",
    "\n",
    "accuracy = correct / total\n",
    "print('Test Accuracy: {:.2f}%'.format(100 * accuracy))"
   ]
  },
  {
   "cell_type": "code",
   "execution_count": 17,
   "metadata": {},
   "outputs": [
    {
     "name": "stdout",
     "output_type": "stream",
     "text": [
      "Predicted: 0, Actual: 0\n",
      "Predicted: 0, Actual: 0\n",
      "Predicted: 0, Actual: 1\n",
      "Predicted: 1, Actual: 1\n",
      "Predicted: 0, Actual: 1\n",
      "Predicted: 0, Actual: 0\n",
      "Predicted: 1, Actual: 1\n",
      "Predicted: 1, Actual: 1\n",
      "Predicted: 0, Actual: 0\n",
      "Predicted: 0, Actual: 0\n",
      "Predicted: 0, Actual: 0\n",
      "Predicted: 1, Actual: 1\n",
      "Predicted: 0, Actual: 1\n",
      "Predicted: 1, Actual: 1\n",
      "Predicted: 0, Actual: 0\n",
      "Predicted: 0, Actual: 0\n",
      "Predicted: 0, Actual: 1\n",
      "Predicted: 0, Actual: 0\n",
      "Predicted: 0, Actual: 0\n",
      "Predicted: 0, Actual: 0\n",
      "Predicted: 0, Actual: 0\n",
      "Predicted: 0, Actual: 0\n",
      "Predicted: 0, Actual: 0\n",
      "Predicted: 0, Actual: 0\n",
      "Predicted: 0, Actual: 1\n",
      "Predicted: 0, Actual: 0\n",
      "Predicted: 0, Actual: 0\n",
      "Predicted: 0, Actual: 0\n",
      "Predicted: 0, Actual: 0\n",
      "Predicted: 0, Actual: 0\n",
      "Predicted: 0, Actual: 0\n",
      "Predicted: 1, Actual: 1\n",
      "Predicted: 0, Actual: 0\n",
      "Predicted: 0, Actual: 0\n",
      "Predicted: 0, Actual: 0\n",
      "Predicted: 0, Actual: 0\n",
      "Predicted: 0, Actual: 0\n",
      "Predicted: 1, Actual: 1\n",
      "Predicted: 1, Actual: 0\n",
      "Predicted: 0, Actual: 1\n",
      "Predicted: 0, Actual: 0\n",
      "Predicted: 0, Actual: 0\n",
      "Predicted: 0, Actual: 0\n",
      "Predicted: 0, Actual: 0\n",
      "Predicted: 1, Actual: 1\n",
      "Predicted: 0, Actual: 0\n",
      "Predicted: 0, Actual: 1\n",
      "Predicted: 0, Actual: 0\n",
      "Predicted: 0, Actual: 1\n",
      "Test Accuracy: 81.63%\n"
     ]
    },
    {
     "data": {
      "image/png": "[encoded data removed]",
      "text/plain": [
       "<Figure size 640x480 with 2 Axes>"
      ]
     },
     "metadata": {},
     "output_type": "display_data"
    }
   ],
   "source": [
    "import torch\n",
    "import matplotlib.pyplot as plt\n",
    "import numpy as np\n",
    "from sklearn.metrics import confusion_matrix, ConfusionMatrixDisplay\n",
    "\n",
    "# Assuming test_loader, model are already defined\n",
    "\n",
    "model.eval()\n",
    "all_preds = []\n",
    "all_labels = []\n",
    "\n",
    "with torch.no_grad():\n",
    "    for images, labels in test_loader:\n",
    "        outputs = model(images)\n",
    "        _, predicted = torch.max(outputs.data, 1)\n",
    "        all_preds.extend(predicted.cpu().numpy())\n",
    "        all_labels.extend(labels.cpu().numpy())\n",
    "\n",
    "        # Print the predicted and actual labels\n",
    "        for i in range(len(labels)):\n",
    "            print(\"Predicted: {}, Actual: {}\".format(predicted[i], labels[i]))\n",
    "\n",
    "# Calculate accuracy\n",
    "all_preds = np.array(all_preds)\n",
    "all_labels = np.array(all_labels)\n",
    "accuracy = (all_preds == all_labels).sum() / len(all_labels)\n",
    "print('Test Accuracy: {:.2f}%'.format(100 * accuracy))\n",
    "\n",
    "# Generate and plot confusion matrix\n",
    "cm = confusion_matrix(all_labels, all_preds)\n",
    "disp = ConfusionMatrixDisplay(confusion_matrix=cm)\n",
    "disp.plot(cmap=plt.cm.Blues)\n",
    "\n",
    "plt.show()"
   ]
  },
  {
   "cell_type": "code",
   "execution_count": 16,
   "metadata": {},
   "outputs": [],
   "source": [
    "# Save the model\n",
    "torch.save(model.state_dict(), f'G:\\Yehmh\\_model\\\\0416_DNDF_resnet_dbh_{int(100 * accuracy)}.pth')"
   ]
  },
  {
   "cell_type": "markdown",
   "metadata": {},
   "source": [
    "## Classify Whole"
   ]
  },
  {
   "cell_type": "code",
   "execution_count": 17,
   "metadata": {},
   "outputs": [],
   "source": [
    "# import os\n",
    "# import cv2\n",
    "# import torch\n",
    "# import rasterio\n",
    "# import numpy as np\n",
    "# from torch.utils.data import DataLoader\n",
    "# from torchvision import transforms\n",
    "# # from your_model_file import CNN  # Import your CNN model class\n",
    "# import csv\n",
    "\n",
    "# # Function to extract coordinates from TIF files\n",
    "# def extract_coordinates(tif_file):\n",
    "#     with rasterio.open(tif_file) as src:\n",
    "#         crs = src.crs\n",
    "#         bounds = src.bounds\n",
    "#         center_x = (bounds.left + bounds.right) / 2\n",
    "#         center_y = (bounds.top + bounds.bottom) / 2\n",
    "#         return crs, (center_x, center_y)\n",
    "\n",
    "# # Define directory containing unknown TIF files\n",
    "# # unknown_photos_dir = 'D:\\\\Yehmh\\\\test_py\\\\202301\\\\P00073_transect_234\\\\10m_10m\\\\unknown'\n",
    "\n",
    "# def classify_and_write(unknown_photos_dir, output_csv_path):\n",
    "\n",
    "#     # Initialize lists to store unknown photo paths, coordinates, and predictions\n",
    "#     unknown_photos = []\n",
    "#     unknown_coordinates = []\n",
    "\n",
    "#     # Iterate over unknown TIF files\n",
    "#     for filename in os.listdir(unknown_photos_dir):\n",
    "#         if filename.endswith('.tif'):\n",
    "#             tif_file = os.path.join(unknown_photos_dir, filename)\n",
    "            \n",
    "#             # Extract coordinates\n",
    "#             crs, coordinates = extract_coordinates(tif_file)\n",
    "            \n",
    "#             # Append to the list\n",
    "#             unknown_photos.append(tif_file)\n",
    "#             unknown_coordinates.append((filename, crs, coordinates))\n",
    "\n",
    "#     # Now you have a list of unknown photo paths (unknown_photos) and corresponding coordinates (unknown_coordinates)\n",
    "\n",
    "#     # Load the trained model\n",
    "#     # model = CNN(num_classes=len(label_encoder.classes_))\n",
    "#     # model.load_state_dict(torch.load('path/to/your/trained/model.pth'))\n",
    "#     model.eval()  # Set the model to evaluation mode\n",
    "\n",
    "#     # Define transformations for the images\n",
    "#     transform = transforms.Compose([\n",
    "#         transforms.ToTensor(),  \n",
    "#         transforms.Normalize((0.5, 0.5, 0.5), (0.5, 0.5, 0.5))  \n",
    "#     ])\n",
    "\n",
    "#     # Make predictions on the unknown photos\n",
    "#     predictions = []\n",
    "#     for photo_path in unknown_photos:\n",
    "#         # Load and preprocess the image\n",
    "#         image = cv2.imread(photo_path)\n",
    "#         image = cv2.resize(image, (64, 64))  # Resize image if necessary\n",
    "#         image = transform(image)\n",
    "#         image = image.unsqueeze(0)  # Add batch dimension\n",
    "        \n",
    "#         # Perform inference\n",
    "#         with torch.no_grad():\n",
    "#             output = model(image)\n",
    "#             predicted_class = torch.argmax(output).item()\n",
    "#             predicted_label = label_encoder.classes_[predicted_class]\n",
    "#             predictions.append(predicted_label)\n",
    "\n",
    "#     # Now you have the predictions for each unknown photo in the list 'predictions'\n",
    "#     # You can proceed to visualize the results on a map using the coordinates\n",
    "#     with open(output_csv_path, 'w', newline='') as csvfile:\n",
    "#         writer = csv.writer(csvfile)\n",
    "#         writer.writerow(['Filename', 'Latitude', 'Longitude', 'Predicted Species'])  # Write header\n",
    "#         for coord, label in zip(unknown_coordinates, predictions):\n",
    "#             filename, crs, (latitude, longitude) = coord\n",
    "#             writer.writerow([filename, latitude, longitude, label])"
   ]
  },
  {
   "cell_type": "code",
   "execution_count": 18,
   "metadata": {},
   "outputs": [],
   "source": [
    "# import csv\n",
    "\n",
    "# # Define output CSV file path\n",
    "# # output_csv_path = 'D:/Yehmh/test_py/202301/P00073_transect_234/10m_10m/species_distribution.csv'\n",
    "\n",
    "\n",
    "# # Write results to CSV file\n",
    "# with open(output_csv_path, 'w', newline='') as csvfile:\n",
    "#     writer = csv.writer(csvfile)\n",
    "#     writer.writerow(['Filename', 'Latitude', 'Longitude', 'Predicted Species'])  # Write header\n",
    "#     for coord, label in zip(unknown_coordinates, predictions):\n",
    "#         filename, crs, (latitude, longitude) = coord\n",
    "#         writer.writerow([filename, latitude, longitude, label])\n"
   ]
  },
  {
   "cell_type": "code",
   "execution_count": 19,
   "metadata": {},
   "outputs": [],
   "source": [
    "# list = [69, 70, 71, 75, 76, 78, 79, 82]\n",
    "\n",
    "# for i in list:\n",
    "#     unknown_photos_dir = f'D:\\\\Yehmh\\\\test_py\\\\202301\\\\P000{i}\\\\5m_5m'\n",
    "#     output_csv_path = f'D:/Yehmh/test_py/202301/P000{i}_species_distribution.csv'\n",
    "    \n",
    "#     classify_and_write(unknown_photos_dir, output_csv_path)\n",
    "    \n",
    "#     print(i, \" done\")"
   ]
  },
  {
   "cell_type": "markdown",
   "metadata": {},
   "source": [
    "### add probabilities"
   ]
  },
  {
   "cell_type": "code",
   "execution_count": 20,
   "metadata": {},
   "outputs": [],
   "source": [
    "# import os\n",
    "# import cv2\n",
    "# import torch\n",
    "# import rasterio\n",
    "# import numpy as np\n",
    "# from torch.utils.data import DataLoader\n",
    "# from torchvision import transforms\n",
    "# # from your_model_file import CNN  # Import your CNN model class\n",
    "# import csv\n",
    "\n",
    "# # Function to extract coordinates from TIF files\n",
    "# def extract_coordinates(tif_file):\n",
    "#     with rasterio.open(tif_file) as src:\n",
    "#         crs = src.crs\n",
    "#         bounds = src.bounds\n",
    "#         center_x = (bounds.left + bounds.right) / 2\n",
    "#         center_y = (bounds.top + bounds.bottom) / 2\n",
    "#         return crs, (center_x, center_y)\n",
    "\n",
    "# # Define directory containing unknown TIF files\n",
    "# # unknown_photos_dir = 'D:\\\\Yehmh\\\\test_py\\\\202301\\\\P00073_transect_234\\\\10m_10m\\\\unknown_cleaned'\n",
    "\n",
    "# def classify_and_write(unknown_photos_dir, output_csv_path):\n",
    "\n",
    "#     # Initialize lists to store unknown photo paths, coordinates, and predictions\n",
    "#     unknown_photos = []\n",
    "#     unknown_coordinates = []\n",
    "\n",
    "#     # Iterate over unknown TIF files\n",
    "#     for filename in os.listdir(unknown_photos_dir):\n",
    "#         if filename.endswith('.tif'):\n",
    "#             tif_file = os.path.join(unknown_photos_dir, filename)\n",
    "            \n",
    "#             # Extract coordinates\n",
    "#             crs, coordinates = extract_coordinates(tif_file)\n",
    "            \n",
    "#             # Append to the list\n",
    "#             unknown_photos.append(tif_file)\n",
    "#             unknown_coordinates.append((filename, crs, coordinates))\n",
    "\n",
    "#     # Now you have a list of unknown photo paths (unknown_photos) and corresponding coordinates (unknown_coordinates)\n",
    "\n",
    "#     # Define a function to classify with threshold\n",
    "#     def classify_with_threshold(probabilities, threshold):\n",
    "#         max_prob, max_index = torch.max(probabilities, dim=1)\n",
    "#         if max_prob.item() < threshold:\n",
    "#             return \"unknown\"\n",
    "#         else:\n",
    "#             predicted_label = label_encoder.classes_[max_index.item()]\n",
    "#             return predicted_label  # Return the index of the class with the maximum probability\n",
    "\n",
    "\n",
    "#     # Load the trained model\n",
    "#     # model = CNN(num_classes=len(label_encoder.classes_))\n",
    "#     # model.load_state_dict(torch.load('path/to/your/trained/model.pth'))\n",
    "#     model.eval()  # Set the model to evaluation mode\n",
    "\n",
    "#     # Define transformations for the images\n",
    "#     transform = transforms.Compose([\n",
    "#         transforms.ToTensor(),  \n",
    "#         transforms.Normalize((0.5, 0.5, 0.5), (0.5, 0.5, 0.5))  \n",
    "#     ])\n",
    "\n",
    "#     # Make predictions on the unknown photos\n",
    "#     predictions = []\n",
    "#     for photo_path in unknown_photos:\n",
    "#         # Load and preprocess the image\n",
    "#         image = cv2.imread(photo_path)\n",
    "#         image = cv2.resize(image, (64, 64))  # Resize image if necessary\n",
    "#         image = transform(image)\n",
    "#         image = image.unsqueeze(0)  # Add batch dimension\n",
    "        \n",
    "#         # Perform inference\n",
    "#         with torch.no_grad():\n",
    "#             output = model(image)\n",
    "#             probabilities = nn.functional.softmax(output, dim=1)  # Apply softmax to get probabilities\n",
    "#             classification = classify_with_threshold(probabilities, threshold=0.7)  # Adjust threshold as needed\n",
    "#             predictions.append(classification)\n",
    "\n",
    "#     # Now you have the predictions for each unknown photo in the list 'predictions'\n",
    "#     # You can proceed to visualize the results on a map using the coordinates\n",
    "#     with open(output_csv_path, 'w', newline='') as csvfile:\n",
    "#         writer = csv.writer(csvfile)\n",
    "#         writer.writerow(['Filename', 'Latitude', 'Longitude', 'Predicted Species'])  # Write header\n",
    "#         for coord, label in zip(unknown_coordinates, predictions):\n",
    "#             filename, crs, (latitude, longitude) = coord\n",
    "#             writer.writerow([filename, latitude, longitude, label])"
   ]
  },
  {
   "cell_type": "code",
   "execution_count": 21,
   "metadata": {},
   "outputs": [],
   "source": [
    "# import csv\n",
    "\n",
    "# # Define output CSV file path\n",
    "# output_csv_path = 'D:/Yehmh/test_py/202301/P00073_transect_234/10m_10m/species_distribution_unclassified_2.csv'\n",
    "\n",
    "# # Write results to CSV file\n",
    "# with open(output_csv_path, 'w', newline='') as csvfile:\n",
    "#     writer = csv.writer(csvfile)\n",
    "#     writer.writerow(['Filename', 'Latitude', 'Longitude', 'Predicted Species'])  # Write header\n",
    "#     for coord, label in zip(unknown_coordinates, predictions):\n",
    "#         filename, crs, (latitude, longitude) = coord\n",
    "#         writer.writerow([filename, latitude, longitude, label])"
   ]
  },
  {
   "cell_type": "code",
   "execution_count": 22,
   "metadata": {},
   "outputs": [],
   "source": [
    "# list = [69, 70, 71, 75, 76, 78, 79, 82]\n",
    "# list = [76, 78, 79, 82]\n",
    "# list = [78]\n",
    "\n",
    "# for i in list:\n",
    "#     unknown_photos_dir = f'D:\\\\Yehmh\\\\test_py\\\\202301\\\\P000{i}\\\\5m_5m'\n",
    "#     output_csv_path = f'D:/Yehmh/test_py/202301/P000{i}_species_distribution_prob_2.csv'\n",
    "    \n",
    "#     classify_and_write(unknown_photos_dir, output_csv_path)\n",
    "    \n",
    "#     print(i, \" done\")"
   ]
  },
  {
   "cell_type": "code",
   "execution_count": 23,
   "metadata": {},
   "outputs": [],
   "source": [
    "# unknown_photos_dir = f'D:\\\\Yehmh\\\\test_py\\\\202301\\\\P00074_transect_1\\\\5m_5m'\n",
    "# output_csv_path = f'D:/Yehmh/test_py/202301/P00074_species_distribution_prob.csv'\n",
    "# classify_and_write(unknown_photos_dir, output_csv_path)\n",
    "# print(\"done 1\")\n",
    "\n",
    "# unknown_photos_dir = f'D:\\\\Yehmh\\\\test_py\\\\202301\\\\P00073_transect_234\\\\5m_5m\\\\unknown'\n",
    "# output_csv_path = f'D:/Yehmh/test_py/202301/P00073_species_distribution_prob.csv'\n",
    "# classify_and_write(unknown_photos_dir, output_csv_path)\n",
    "# print(\"done 2\")"
   ]
  }
 ],
 "metadata": {
  "kernelspec": {
   "display_name": "test",
   "language": "python",
   "name": "python3"
  },
  "language_info": {
   "codemirror_mode": {
    "name": "ipython",
    "version": 3
   },
   "file_extension": ".py",
   "mimetype": "text/x-python",
   "name": "python",
   "nbconvert_exporter": "python",
   "pygments_lexer": "ipython3",
   "version": "3.8.19"
  }
 },
 "nbformat": 4,
 "nbformat_minor": 2
}
