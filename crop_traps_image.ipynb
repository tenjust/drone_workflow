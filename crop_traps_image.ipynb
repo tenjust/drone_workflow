{
 "cells": [
  {
   "cell_type": "code",
   "execution_count": 1,
   "metadata": {},
   "outputs": [
    {
     "ename": "RasterioIOError",
     "evalue": "'\"F:\\ZhaoFeng_2024\\202403_RGBmosaic_georeferenced\\ZF03n2_clip.tif\"' does not exist in the file system, and is not recognized as a supported dataset name.",
     "output_type": "error",
     "traceback": [
      "\u001b[1;31m---------------------------------------------------------------------------\u001b[0m",
      "\u001b[1;31mCPLE_OpenFailedError\u001b[0m                      Traceback (most recent call last)",
      "File \u001b[1;32mrasterio\\\\_base.pyx:310\u001b[0m, in \u001b[0;36mrasterio._base.DatasetBase.__init__\u001b[1;34m()\u001b[0m\n",
      "File \u001b[1;32mrasterio\\\\_base.pyx:221\u001b[0m, in \u001b[0;36mrasterio._base.open_dataset\u001b[1;34m()\u001b[0m\n",
      "File \u001b[1;32mrasterio\\\\_err.pyx:221\u001b[0m, in \u001b[0;36mrasterio._err.exc_wrap_pointer\u001b[1;34m()\u001b[0m\n",
      "\u001b[1;31mCPLE_OpenFailedError\u001b[0m: '\"F:\\ZhaoFeng_2024\\202403_RGBmosaic_georeferenced\\ZF03n2_clip.tif\"' does not exist in the file system, and is not recognized as a supported dataset name.",
      "\nDuring handling of the above exception, another exception occurred:\n",
      "\u001b[1;31mRasterioIOError\u001b[0m                           Traceback (most recent call last)",
      "Cell \u001b[1;32mIn[1], line 17\u001b[0m\n\u001b[0;32m     10\u001b[0m \u001b[38;5;66;03m# Define the transformer to convert TM2 coordinates to the TIFF CRS (if necessary)\u001b[39;00m\n\u001b[0;32m     11\u001b[0m \u001b[38;5;66;03m# Replace 'EPSG:XXXX' with the correct EPSG code for your TIFF file's CRS\u001b[39;00m\n\u001b[0;32m     12\u001b[0m \u001b[38;5;66;03m# transformer = Transformer.from_crs('EPSG:XXXX', 'EPSG:YYYY', always_xy=True)\u001b[39;00m\n\u001b[0;32m     13\u001b[0m \n\u001b[0;32m     14\u001b[0m \u001b[38;5;66;03m# Open the TIFF file\u001b[39;00m\n\u001b[0;32m     15\u001b[0m \u001b[38;5;66;03m# tif_file = 'h:\\\\Yehmh\\\\ZF\\\\202403_georeferenced\\\\202403_06_rgb.tif'\u001b[39;00m\n\u001b[0;32m     16\u001b[0m tif_file \u001b[38;5;241m=\u001b[39m \u001b[38;5;124m'\u001b[39m\u001b[38;5;124m\"\u001b[39m\u001b[38;5;124mF:\u001b[39m\u001b[38;5;130;01m\\\\\u001b[39;00m\u001b[38;5;124mZhaoFeng_2024\u001b[39m\u001b[38;5;130;01m\\\\\u001b[39;00m\u001b[38;5;124m202403_RGBmosaic_georeferenced\u001b[39m\u001b[38;5;130;01m\\\\\u001b[39;00m\u001b[38;5;124mZF03n2_clip.tif\u001b[39m\u001b[38;5;124m\"\u001b[39m\u001b[38;5;124m'\u001b[39m\n\u001b[1;32m---> 17\u001b[0m \u001b[38;5;28;01mwith\u001b[39;00m \u001b[43mrasterio\u001b[49m\u001b[38;5;241;43m.\u001b[39;49m\u001b[43mopen\u001b[49m\u001b[43m(\u001b[49m\u001b[43mtif_file\u001b[49m\u001b[43m)\u001b[49m \u001b[38;5;28;01mas\u001b[39;00m src:\n\u001b[0;32m     18\u001b[0m     \u001b[38;5;28;01mfor\u001b[39;00m idx, row \u001b[38;5;129;01min\u001b[39;00m points\u001b[38;5;241m.\u001b[39miterrows():\n\u001b[0;32m     19\u001b[0m         \u001b[38;5;66;03m# Transform the coordinates\u001b[39;00m\n\u001b[0;32m     20\u001b[0m         tm2_x, tm2_y \u001b[38;5;241m=\u001b[39m row[\u001b[38;5;124m'\u001b[39m\u001b[38;5;124mtm2_x\u001b[39m\u001b[38;5;124m'\u001b[39m], row[\u001b[38;5;124m'\u001b[39m\u001b[38;5;124mtm2_y\u001b[39m\u001b[38;5;124m'\u001b[39m]\n",
      "File \u001b[1;32mc:\\Users\\user\\anaconda3\\envs\\RS\\lib\\site-packages\\rasterio\\env.py:451\u001b[0m, in \u001b[0;36mensure_env_with_credentials.<locals>.wrapper\u001b[1;34m(*args, **kwds)\u001b[0m\n\u001b[0;32m    448\u001b[0m     session \u001b[38;5;241m=\u001b[39m DummySession()\n\u001b[0;32m    450\u001b[0m \u001b[38;5;28;01mwith\u001b[39;00m env_ctor(session\u001b[38;5;241m=\u001b[39msession):\n\u001b[1;32m--> 451\u001b[0m     \u001b[38;5;28;01mreturn\u001b[39;00m \u001b[43mf\u001b[49m\u001b[43m(\u001b[49m\u001b[38;5;241;43m*\u001b[39;49m\u001b[43margs\u001b[49m\u001b[43m,\u001b[49m\u001b[43m \u001b[49m\u001b[38;5;241;43m*\u001b[39;49m\u001b[38;5;241;43m*\u001b[39;49m\u001b[43mkwds\u001b[49m\u001b[43m)\u001b[49m\n",
      "File \u001b[1;32mc:\\Users\\user\\anaconda3\\envs\\RS\\lib\\site-packages\\rasterio\\__init__.py:332\u001b[0m, in \u001b[0;36mopen\u001b[1;34m(fp, mode, driver, width, height, count, crs, transform, dtype, nodata, sharing, **kwargs)\u001b[0m\n\u001b[0;32m    329\u001b[0m path \u001b[38;5;241m=\u001b[39m _parse_path(raw_dataset_path)\n\u001b[0;32m    331\u001b[0m \u001b[38;5;28;01mif\u001b[39;00m mode \u001b[38;5;241m==\u001b[39m \u001b[38;5;124m\"\u001b[39m\u001b[38;5;124mr\u001b[39m\u001b[38;5;124m\"\u001b[39m:\n\u001b[1;32m--> 332\u001b[0m     dataset \u001b[38;5;241m=\u001b[39m \u001b[43mDatasetReader\u001b[49m\u001b[43m(\u001b[49m\u001b[43mpath\u001b[49m\u001b[43m,\u001b[49m\u001b[43m \u001b[49m\u001b[43mdriver\u001b[49m\u001b[38;5;241;43m=\u001b[39;49m\u001b[43mdriver\u001b[49m\u001b[43m,\u001b[49m\u001b[43m \u001b[49m\u001b[43msharing\u001b[49m\u001b[38;5;241;43m=\u001b[39;49m\u001b[43msharing\u001b[49m\u001b[43m,\u001b[49m\u001b[43m \u001b[49m\u001b[38;5;241;43m*\u001b[39;49m\u001b[38;5;241;43m*\u001b[39;49m\u001b[43mkwargs\u001b[49m\u001b[43m)\u001b[49m\n\u001b[0;32m    333\u001b[0m \u001b[38;5;28;01melif\u001b[39;00m mode \u001b[38;5;241m==\u001b[39m \u001b[38;5;124m\"\u001b[39m\u001b[38;5;124mr+\u001b[39m\u001b[38;5;124m\"\u001b[39m:\n\u001b[0;32m    334\u001b[0m     dataset \u001b[38;5;241m=\u001b[39m get_writer_for_path(path, driver\u001b[38;5;241m=\u001b[39mdriver)(\n\u001b[0;32m    335\u001b[0m         path, mode, driver\u001b[38;5;241m=\u001b[39mdriver, sharing\u001b[38;5;241m=\u001b[39msharing, \u001b[38;5;241m*\u001b[39m\u001b[38;5;241m*\u001b[39mkwargs\n\u001b[0;32m    336\u001b[0m     )\n",
      "File \u001b[1;32mrasterio\\\\_base.pyx:312\u001b[0m, in \u001b[0;36mrasterio._base.DatasetBase.__init__\u001b[1;34m()\u001b[0m\n",
      "\u001b[1;31mRasterioIOError\u001b[0m: '\"F:\\ZhaoFeng_2024\\202403_RGBmosaic_georeferenced\\ZF03n2_clip.tif\"' does not exist in the file system, and is not recognized as a supported dataset name."
     ]
    }
   ],
   "source": [
    "import pandas as pd\n",
    "import rasterio\n",
    "from rasterio import windows\n",
    "from pyproj import Transformer\n",
    "\n",
    "# Read the CSV file\n",
    "csv_file = '\\\\Yehmh\\\\ZF\\\\seedtrapGPS_T4.csv'\n",
    "points = pd.read_csv(csv_file)\n",
    "\n",
    "# Define the transformer to convert TM2 coordinates to the TIFF CRS (if necessary)\n",
    "# Replace 'EPSG:XXXX' with the correct EPSG code for your TIFF file's CRS\n",
    "# transformer = Transformer.from_crs('EPSG:XXXX', 'EPSG:YYYY', always_xy=True)\n",
    "\n",
    "# Open the TIFF file\n",
    "# tif_file = 'h:\\\\Yehmh\\\\ZF\\\\202403_georeferenced\\\\202403_06_rgb.tif'\n",
    "tif_file = '\"F:\\\\ZhaoFeng_2024\\\\202403_RGBmosaic_georeferenced\\\\ZF03n2_clip.tif\"'\n",
    "with rasterio.open(tif_file) as src:\n",
    "    for idx, row in points.iterrows():\n",
    "        # Transform the coordinates\n",
    "        tm2_x, tm2_y = row['tm2_x'], row['tm2_y']\n",
    "        plot = row['Plot']\n",
    "        \n",
    "        # Calculate the pixel coordinates in the TIFF\n",
    "        row, col = src.index(tm2_x, tm2_y)\n",
    "        \n",
    "        # Define the window to crop (40x40 meters)\n",
    "        half_size = 20 / src.res[0]  # Assuming the resolution is in meters\n",
    "        window = windows.Window(col - half_size, row - half_size, half_size * 2, half_size * 2)\n",
    "        \n",
    "        # Crop the image\n",
    "        crop = src.read(window=window)\n",
    "        \n",
    "        # Save the cropped image\n",
    "        crop_file = f'\\\\Yehmh\\\\ZF\\\\202403_georeferenced\\\\traps_images_T4\\\\{plot}.tif'\n",
    "        profile = src.profile\n",
    "        profile.update({\n",
    "            'height': crop.shape[1],\n",
    "            'width': crop.shape[2],\n",
    "            'transform': windows.transform(window, src.transform)\n",
    "        })\n",
    "        \n",
    "        with rasterio.open(crop_file, 'w', **profile) as dst:\n",
    "            dst.write(crop)\n",
    "        \n",
    "        print(f'Cropped trap {plot} saved.')\n",
    "\n",
    "print('Cropping completed.')\n"
   ]
  }
 ],
 "metadata": {
  "kernelspec": {
   "display_name": "RS",
   "language": "python",
   "name": "python3"
  },
  "language_info": {
   "codemirror_mode": {
    "name": "ipython",
    "version": 3
   },
   "file_extension": ".py",
   "mimetype": "text/x-python",
   "name": "python",
   "nbconvert_exporter": "python",
   "pygments_lexer": "ipython3",
   "version": "3.8.19"
  }
 },
 "nbformat": 4,
 "nbformat_minor": 2
}
