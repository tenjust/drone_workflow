{
 "cells": [
  {
   "cell_type": "code",
   "execution_count": 153,
   "metadata": {},
   "outputs": [],
   "source": [
    "# 20240626 To classify segmented images in DNDF 101\n",
    "# 20240711 To classify segmented images in BCI"
   ]
  },
  {
   "cell_type": "code",
   "execution_count": 154,
   "metadata": {},
   "outputs": [],
   "source": [
    "import os\n",
    "import pandas as pd\n",
    "import numpy as np\n",
    "import cv2\n",
    "import torch\n",
    "import torch.nn as nn\n",
    "import torch.optim as optim\n",
    "import torchvision.transforms as transforms\n",
    "from torch.utils.data import Dataset, DataLoader\n",
    "from sklearn.model_selection import train_test_split\n",
    "from sklearn.preprocessing import LabelEncoder\n",
    "\n",
    "# Define a custom dataset class\n",
    "class CustomDataset(Dataset):\n",
    "    def __init__(self, images, labels, transform=None):\n",
    "        self.images = images\n",
    "        self.labels = labels\n",
    "        self.transform = transform\n",
    "\n",
    "    def __len__(self):\n",
    "        return len(self.images)\n",
    "\n",
    "    def __getitem__(self, idx):\n",
    "        image = self.images[idx]\n",
    "        label = self.labels[idx]\n",
    "\n",
    "        if self.transform:\n",
    "            image = self.transform(image)\n",
    "\n",
    "        return image, label"
   ]
  },
  {
   "cell_type": "markdown",
   "metadata": {},
   "source": [
    "## Step 1: Data Preparation"
   ]
  },
  {
   "cell_type": "code",
   "execution_count": 155,
   "metadata": {},
   "outputs": [
    {
     "name": "stdout",
     "output_type": "stream",
     "text": [
      "image size:  (61, 71, 3)\n"
     ]
    }
   ],
   "source": [
    "data_dir = 'h:\\\\Yehmh\\\\DNDF\\\\101_1_focus\\\\202404_101_seg_images_labeled_part_2'\n",
    "# data_dir = 'h:\\\\Yehmh\\\\BCI\\\\2020_08_01_seg_images_labeled'\n",
    "\n",
    "X = []  # Features\n",
    "y = []  # Labels\n",
    "\n",
    "for folder in os.listdir(data_dir):\n",
    "    for file in os.listdir(os.path.join(data_dir, folder)):\n",
    "        if file.endswith(\".tif\"):\n",
    "            image_path = os.path.join(data_dir, folder, file)\n",
    "            image = cv2.imread(image_path)\n",
    "            if image.shape[0] >= 64:\n",
    "                image = cv2.resize(image, (64, 64))  # Resize image if necessary\n",
    "            else:\n",
    "                print(\"image size: \", image.shape)\n",
    "                continue\n",
    "            \n",
    "            X.append(image)\n",
    "            y.append(folder)"
   ]
  },
  {
   "cell_type": "code",
   "execution_count": 156,
   "metadata": {},
   "outputs": [],
   "source": [
    "# import matplotlib.pyplot as plt\n",
    "\n",
    "# for image in X:\n",
    "#     plt.imshow(cv2.cvtColor(image, cv2.COLOR_BGR2RGB))\n",
    "#     plt.axis('off')\n",
    "#     plt.show()"
   ]
  },
  {
   "cell_type": "markdown",
   "metadata": {},
   "source": [
    "## Step 2: Data Preprocessing"
   ]
  },
  {
   "cell_type": "code",
   "execution_count": 157,
   "metadata": {},
   "outputs": [],
   "source": [
    "label_encoder = LabelEncoder()\n",
    "y = label_encoder.fit_transform(y)\n",
    "X_train, X_test, y_train, y_test = train_test_split(X, y, test_size=0.2, random_state=42)"
   ]
  },
  {
   "cell_type": "code",
   "execution_count": 158,
   "metadata": {},
   "outputs": [
    {
     "name": "stdout",
     "output_type": "stream",
     "text": [
      "['Bisc_ja' 'Frax_gr' 'Liqu_fo']\n",
      "[1 1 1 1 1 1 1 1 1 1 1 1 1 1 1 1 1 2 2 2 2 2 2 2 2 2 2 2 0 0 0 0 0 0 0]\n",
      "28 7\n"
     ]
    }
   ],
   "source": [
    "print(label_encoder.classes_)\n",
    "print(y)\n",
    "print(len(X_train), len(X_test))"
   ]
  },
  {
   "cell_type": "markdown",
   "metadata": {},
   "source": [
    "## Step 3: Define transformations and create datasets"
   ]
  },
  {
   "cell_type": "code",
   "execution_count": 159,
   "metadata": {},
   "outputs": [],
   "source": [
    "# transform = transforms.Compose([\n",
    "#     transforms.ToTensor(),  # Convert image to PyTorch tensor\n",
    "#     transforms.Normalize((0.5, 0.5, 0.5), (0.5, 0.5, 0.5))  # Normalize image data\n",
    "# ])\n",
    "\n",
    "# train_dataset = CustomDataset(X_train, y_train, transform=transform)\n",
    "# test_dataset = CustomDataset(X_test, y_test, transform=transform)"
   ]
  },
  {
   "cell_type": "code",
   "execution_count": 160,
   "metadata": {},
   "outputs": [
    {
     "name": "stdout",
     "output_type": "stream",
     "text": [
      "28 7\n"
     ]
    }
   ],
   "source": [
    "# Data Augmentation ------\n",
    "\n",
    "from PIL import Image\n",
    "\n",
    "train_transform = transforms.Compose([\n",
    "    transforms.Lambda(lambda x: Image.fromarray(x)),  # Convert NumPy array to PIL Image\n",
    "    transforms.RandomHorizontalFlip(),  # Randomly flip the images horizontally\n",
    "    transforms.RandomRotation(degrees=15),  # Randomly rotate the images by up to 15 degrees\n",
    "    transforms.RandomCrop(size=(64, 64), padding=4),  # Randomly crop a 32x32 region of the image with padding\n",
    "    transforms.ToTensor(),  # Convert image to PyTorch tensor\n",
    "    transforms.Normalize(mean=[0.5, 0.5, 0.5], std=[0.5, 0.5, 0.5])  # Normalize image data\n",
    "])\n",
    "\n",
    "test_transform = transforms.Compose([\n",
    "    transforms.ToTensor(),  # Convert image to PyTorch tensor\n",
    "    transforms.Normalize(mean=[0.5, 0.5, 0.5], std=[0.5, 0.5, 0.5])  # Normalize image data\n",
    "])\n",
    "\n",
    "train_dataset = CustomDataset(X_train, y_train, transform=train_transform)\n",
    "test_dataset = CustomDataset(X_test, y_test, transform=test_transform)\n",
    "\n",
    "print(len(train_dataset), len(test_dataset))"
   ]
  },
  {
   "cell_type": "markdown",
   "metadata": {},
   "source": [
    "## Step 4: Create data loaders"
   ]
  },
  {
   "cell_type": "code",
   "execution_count": 161,
   "metadata": {},
   "outputs": [],
   "source": [
    "batch_size = 32\n",
    "\n",
    "train_loader = DataLoader(train_dataset, batch_size=batch_size, shuffle=True)\n",
    "test_loader = DataLoader(test_dataset, batch_size=batch_size, shuffle=False)\n",
    "# test_loader is created with shuffle=False. \n",
    "# Ensures that the evaluation process remains consistent across different evaluations \n",
    "# and that the model is tested on the same data distribution every time"
   ]
  },
  {
   "cell_type": "markdown",
   "metadata": {},
   "source": [
    "## Step 5: Define the CNN model"
   ]
  },
  {
   "cell_type": "code",
   "execution_count": 162,
   "metadata": {},
   "outputs": [
    {
     "name": "stdout",
     "output_type": "stream",
     "text": [
      "(64, 64, 3)\n"
     ]
    }
   ],
   "source": [
    "print(image.shape)"
   ]
  },
  {
   "cell_type": "code",
   "execution_count": 163,
   "metadata": {},
   "outputs": [],
   "source": [
    "class CNN(nn.Module):\n",
    "    def __init__(self, num_classes):\n",
    "        super(CNN, self).__init__()\n",
    "        # Define the convolutional layers\n",
    "        self.conv1 = nn.Conv2d(3, 32, kernel_size=3, padding=1)     # (in_channels (rgb), out_channels, filter_num, stride, padding), default stride = 1\n",
    "        self.conv2 = nn.Conv2d(32, 64, kernel_size=3, padding=1)\n",
    "        self.conv3 = nn.Conv2d(64, 64, kernel_size=3, padding=1)\n",
    "        # Define the fully connected layers\n",
    "        self.fc1 = nn.Linear(64 * 8 * 8, 128)\n",
    "        # self.fc1 = nn.Linear(64 * 4 * 4, 128)\n",
    "        self.fc2 = nn.Linear(128, num_classes)\n",
    "\n",
    "    def forward(self, x):\n",
    "        # Define the forward pass through the network\n",
    "        x = nn.functional.relu(self.conv1(x))\n",
    "        x = nn.functional.max_pool2d(x, 2)\n",
    "        x = nn.functional.relu(self.conv2(x))\n",
    "        x = nn.functional.max_pool2d(x, 2)\n",
    "        x = nn.functional.relu(self.conv3(x))\n",
    "        x = nn.functional.max_pool2d(x, 2)\n",
    "        # x = x.view(-1, 64 * 16 * 16)\n",
    "        x = x.view(x.size(0), -1)\n",
    "        x = nn.functional.relu(self.fc1(x))\n",
    "        x = self.fc2(x)\n",
    "        return x\n",
    "        # return nn.functional.softmax(x, dim=1)  # Apply softmax activation for multi-class classification"
   ]
  },
  {
   "cell_type": "markdown",
   "metadata": {},
   "source": [
    "## Step 6: Initialize model. loss function, and optimizer"
   ]
  },
  {
   "cell_type": "code",
   "execution_count": 164,
   "metadata": {},
   "outputs": [],
   "source": [
    "model = CNN(num_classes=len(label_encoder.classes_))\n",
    "criterion = nn.CrossEntropyLoss()\n",
    "optimizer = optim.Adam(model.parameters(), lr=0.001)"
   ]
  },
  {
   "cell_type": "code",
   "execution_count": 165,
   "metadata": {},
   "outputs": [
    {
     "name": "stdout",
     "output_type": "stream",
     "text": [
      "3\n"
     ]
    }
   ],
   "source": [
    "print(len(label_encoder.classes_))"
   ]
  },
  {
   "cell_type": "markdown",
   "metadata": {},
   "source": [
    "## Step 7: Train the model"
   ]
  },
  {
   "cell_type": "code",
   "execution_count": 166,
   "metadata": {},
   "outputs": [],
   "source": [
    "def accuracy(predictions, labels):\n",
    "    pred = torch.max(predictions.data, 1)[1]\n",
    "    rights = pred.eq(labels.data.view_as(pred)).sum()\n",
    "    return rights, len(labels)"
   ]
  },
  {
   "cell_type": "code",
   "execution_count": 167,
   "metadata": {},
   "outputs": [],
   "source": [
    "# num_epochs = 5000\n",
    "# for epoch in range(num_epochs):\n",
    "#     model.train()\n",
    "#     for images, labels in train_loader:\n",
    "#         # print(\"Batch Shape - Images:\", images.shape)\n",
    "#         # print(\"Batch Shape - Labels:\", labels.shape)\n",
    "\n",
    "#         optimizer.zero_grad()   # Zero the gradient\n",
    "#         outputs = model(images) # Forward pass: computer predicted outputs\n",
    "#         # print(outputs.shape)\n",
    "#         loss = criterion(outputs, labels) # Compute the loss\n",
    "#         loss.backward()     # Backward pass: compute gradient of the loss with respect to model parameters\n",
    "#         optimizer.step()    # Update the model parameters based on the gradients\n",
    "\n",
    "#     print(f\"Epoch [{epoch + 1}/{num_epochs}], Loss: {loss.item()}\")"
   ]
  },
  {
   "cell_type": "code",
   "execution_count": 168,
   "metadata": {},
   "outputs": [
    {
     "name": "stdout",
     "output_type": "stream",
     "text": [
      "Epoch [1/100], Loss: 1.1198257207870483, Accuracy: 0.21428571428571427\n",
      "Epoch [2/100], Loss: 1.0163518190383911, Accuracy: 0.5357142857142857\n",
      "Epoch [3/100], Loss: 1.1110498905181885, Accuracy: 0.5357142857142857\n",
      "Epoch [4/100], Loss: 0.9755342602729797, Accuracy: 0.5357142857142857\n",
      "Epoch [5/100], Loss: 0.991939127445221, Accuracy: 0.75\n",
      "Epoch [6/100], Loss: 0.9716282486915588, Accuracy: 0.75\n",
      "Epoch [7/100], Loss: 0.9198223352432251, Accuracy: 0.6428571428571429\n",
      "Epoch [8/100], Loss: 0.8576350212097168, Accuracy: 0.6071428571428571\n",
      "Epoch [9/100], Loss: 0.7985243201255798, Accuracy: 0.5714285714285714\n",
      "Epoch [10/100], Loss: 0.7184049487113953, Accuracy: 0.7142857142857143\n",
      "Epoch [11/100], Loss: 0.6495059728622437, Accuracy: 0.75\n",
      "Epoch [12/100], Loss: 0.5754889845848083, Accuracy: 0.7857142857142857\n",
      "Epoch [13/100], Loss: 0.5028618574142456, Accuracy: 0.75\n",
      "Epoch [14/100], Loss: 0.47691914439201355, Accuracy: 0.7142857142857143\n",
      "Epoch [15/100], Loss: 0.414913147687912, Accuracy: 0.7857142857142857\n",
      "Epoch [16/100], Loss: 0.3736093044281006, Accuracy: 0.8571428571428571\n",
      "Epoch [17/100], Loss: 0.33267372846603394, Accuracy: 0.8571428571428571\n",
      "Epoch [18/100], Loss: 0.3436935842037201, Accuracy: 0.7857142857142857\n",
      "Epoch [19/100], Loss: 0.3096223771572113, Accuracy: 0.8571428571428571\n",
      "Epoch [20/100], Loss: 0.36225730180740356, Accuracy: 0.7857142857142857\n",
      "Epoch [21/100], Loss: 0.3477558493614197, Accuracy: 0.8214285714285714\n",
      "Epoch [22/100], Loss: 0.3200584053993225, Accuracy: 0.75\n",
      "Epoch [23/100], Loss: 0.25493982434272766, Accuracy: 0.8928571428571429\n",
      "Epoch [24/100], Loss: 0.2796410620212555, Accuracy: 0.8571428571428571\n",
      "Epoch [25/100], Loss: 0.2696584165096283, Accuracy: 0.8214285714285714\n",
      "Epoch [26/100], Loss: 0.28497835993766785, Accuracy: 0.8571428571428571\n",
      "Epoch [27/100], Loss: 0.21357454359531403, Accuracy: 0.8928571428571429\n",
      "Epoch [28/100], Loss: 0.2910875678062439, Accuracy: 0.8571428571428571\n",
      "Epoch [29/100], Loss: 0.26097097992897034, Accuracy: 0.8571428571428571\n",
      "Epoch [30/100], Loss: 0.20896632969379425, Accuracy: 0.9285714285714286\n",
      "Epoch [31/100], Loss: 0.21448539197444916, Accuracy: 0.9285714285714286\n",
      "Epoch [32/100], Loss: 0.19196517765522003, Accuracy: 0.9285714285714286\n",
      "Epoch [33/100], Loss: 0.16707530617713928, Accuracy: 0.9642857142857143\n",
      "Epoch [34/100], Loss: 0.16727924346923828, Accuracy: 0.9642857142857143\n",
      "Epoch [35/100], Loss: 0.21114994585514069, Accuracy: 0.8928571428571429\n",
      "Epoch [36/100], Loss: 0.14008046686649323, Accuracy: 0.9642857142857143\n",
      "Epoch [37/100], Loss: 0.2004907876253128, Accuracy: 0.9642857142857143\n",
      "Epoch [38/100], Loss: 0.15281139314174652, Accuracy: 0.9285714285714286\n",
      "Epoch [39/100], Loss: 0.1914501041173935, Accuracy: 0.8928571428571429\n",
      "Epoch [40/100], Loss: 0.13933759927749634, Accuracy: 0.9642857142857143\n",
      "Epoch [41/100], Loss: 0.26306813955307007, Accuracy: 0.8571428571428571\n",
      "Epoch [42/100], Loss: 0.15908892452716827, Accuracy: 0.9285714285714286\n",
      "Epoch [43/100], Loss: 0.10983765125274658, Accuracy: 0.9642857142857143\n",
      "Epoch [44/100], Loss: 0.20291759073734283, Accuracy: 0.8928571428571429\n",
      "Epoch [45/100], Loss: 0.19995859265327454, Accuracy: 0.8928571428571429\n",
      "Epoch [46/100], Loss: 0.38956961035728455, Accuracy: 0.8214285714285714\n",
      "Epoch [47/100], Loss: 0.16391333937644958, Accuracy: 0.9642857142857143\n",
      "Epoch [48/100], Loss: 0.21623046696186066, Accuracy: 0.8571428571428571\n",
      "Epoch [49/100], Loss: 0.10516357421875, Accuracy: 0.9642857142857143\n",
      "Epoch [50/100], Loss: 0.1721399873495102, Accuracy: 0.8928571428571429\n",
      "Epoch [51/100], Loss: 0.12421382963657379, Accuracy: 0.9285714285714286\n",
      "Epoch [52/100], Loss: 0.06522773951292038, Accuracy: 0.9642857142857143\n",
      "Epoch [53/100], Loss: 0.2635439932346344, Accuracy: 0.8571428571428571\n",
      "Epoch [54/100], Loss: 0.1638043373823166, Accuracy: 0.9285714285714286\n",
      "Epoch [55/100], Loss: 0.10570511966943741, Accuracy: 0.9642857142857143\n",
      "Epoch [56/100], Loss: 0.12866640090942383, Accuracy: 0.9642857142857143\n",
      "Epoch [57/100], Loss: 0.35717010498046875, Accuracy: 0.7857142857142857\n",
      "Epoch [58/100], Loss: 0.13521917164325714, Accuracy: 0.9285714285714286\n",
      "Epoch [59/100], Loss: 0.16898000240325928, Accuracy: 0.8928571428571429\n",
      "Epoch [60/100], Loss: 0.15387055277824402, Accuracy: 0.9285714285714286\n",
      "Epoch [61/100], Loss: 0.284119576215744, Accuracy: 0.8214285714285714\n",
      "Epoch [62/100], Loss: 0.09277622401714325, Accuracy: 0.9285714285714286\n",
      "Epoch [63/100], Loss: 0.20460772514343262, Accuracy: 0.8928571428571429\n",
      "Epoch [64/100], Loss: 0.11112190037965775, Accuracy: 1.0\n",
      "Epoch [65/100], Loss: 0.1640477180480957, Accuracy: 0.9285714285714286\n",
      "Epoch [66/100], Loss: 0.0777081623673439, Accuracy: 0.9642857142857143\n",
      "Epoch [67/100], Loss: 0.06071685627102852, Accuracy: 1.0\n",
      "Epoch [68/100], Loss: 0.11734481155872345, Accuracy: 0.9642857142857143\n",
      "Epoch [69/100], Loss: 0.07404804229736328, Accuracy: 0.9642857142857143\n",
      "Epoch [70/100], Loss: 0.09164484590291977, Accuracy: 0.9642857142857143\n",
      "Epoch [71/100], Loss: 0.07596272230148315, Accuracy: 0.9642857142857143\n",
      "Epoch [72/100], Loss: 0.10233593732118607, Accuracy: 1.0\n",
      "Epoch [73/100], Loss: 0.061165113002061844, Accuracy: 1.0\n",
      "Epoch [74/100], Loss: 0.03776107355952263, Accuracy: 1.0\n",
      "Epoch [75/100], Loss: 0.05796396732330322, Accuracy: 1.0\n",
      "Epoch [76/100], Loss: 0.1139122024178505, Accuracy: 0.9285714285714286\n",
      "Epoch [77/100], Loss: 0.07551735639572144, Accuracy: 1.0\n",
      "Epoch [78/100], Loss: 0.039867106825113297, Accuracy: 1.0\n",
      "Epoch [79/100], Loss: 0.08223108947277069, Accuracy: 0.9642857142857143\n",
      "Epoch [80/100], Loss: 0.044646937400102615, Accuracy: 1.0\n",
      "Epoch [81/100], Loss: 0.08266308158636093, Accuracy: 0.9642857142857143\n",
      "Epoch [82/100], Loss: 0.03689483553171158, Accuracy: 1.0\n",
      "Epoch [83/100], Loss: 0.040972571820020676, Accuracy: 1.0\n",
      "Epoch [84/100], Loss: 0.06494893878698349, Accuracy: 0.9642857142857143\n",
      "Epoch [85/100], Loss: 0.06890258193016052, Accuracy: 0.9642857142857143\n",
      "Epoch [86/100], Loss: 0.029209386557340622, Accuracy: 1.0\n",
      "Epoch [87/100], Loss: 0.06567592918872833, Accuracy: 0.9642857142857143\n",
      "Epoch [88/100], Loss: 0.02950391173362732, Accuracy: 1.0\n",
      "Epoch [89/100], Loss: 0.048588864505290985, Accuracy: 0.9642857142857143\n",
      "Epoch [90/100], Loss: 0.05029797926545143, Accuracy: 0.9642857142857143\n",
      "Epoch [91/100], Loss: 0.02320186421275139, Accuracy: 1.0\n",
      "Epoch [92/100], Loss: 0.03306599333882332, Accuracy: 1.0\n",
      "Epoch [93/100], Loss: 0.053338825702667236, Accuracy: 0.9642857142857143\n",
      "Epoch [94/100], Loss: 0.030572352930903435, Accuracy: 1.0\n",
      "Epoch [95/100], Loss: 0.029158858582377434, Accuracy: 1.0\n",
      "Epoch [96/100], Loss: 0.020132703706622124, Accuracy: 1.0\n",
      "Epoch [97/100], Loss: 0.025850262492895126, Accuracy: 1.0\n",
      "Epoch [98/100], Loss: 0.034259021282196045, Accuracy: 1.0\n",
      "Epoch [99/100], Loss: 0.018636062741279602, Accuracy: 1.0\n",
      "Epoch [100/100], Loss: 0.013897331431508064, Accuracy: 1.0\n"
     ]
    },
    {
     "data": {
      "image/png": "[encoded data removed]",
      "text/plain": [
       "<Figure size 1000x500 with 2 Axes>"
      ]
     },
     "metadata": {},
     "output_type": "display_data"
    }
   ],
   "source": [
    "import matplotlib.pyplot as plt\n",
    "\n",
    "num_epochs = 100\n",
    "train_losses = []\n",
    "train_accuracies = []\n",
    "\n",
    "for epoch in range(num_epochs):\n",
    "    model.train()\n",
    "    correct = 0\n",
    "    total = 0\n",
    "    epoch_loss = 0.0\n",
    "    \n",
    "    for images, labels in train_loader:\n",
    "        optimizer.zero_grad()   # Zero the gradient\n",
    "        outputs = model(images) # Forward pass: compute predicted outputs\n",
    "        loss = criterion(outputs, labels) # Compute the loss\n",
    "        loss.backward()     # Backward pass: compute gradient of the loss with respect to model parameters\n",
    "        optimizer.step()    # Update the model parameters based on the gradients\n",
    "        \n",
    "        _, predicted = torch.max(outputs.data, 1)\n",
    "        total += labels.size(0)\n",
    "        correct += (predicted == labels).sum().item()\n",
    "        epoch_loss += loss.item()\n",
    "\n",
    "    train_accuracy = correct / total\n",
    "    train_loss = epoch_loss / len(train_loader)\n",
    "    train_accuracies.append(train_accuracy)\n",
    "    train_losses.append(train_loss)\n",
    "\n",
    "    print(f\"Epoch [{epoch + 1}/{num_epochs}], Loss: {train_loss}, Accuracy: {train_accuracy}\")\n",
    "\n",
    "# Plotting\n",
    "plt.figure(figsize=(10, 5))\n",
    "plt.subplot(1, 2, 1)\n",
    "plt.plot(range(1, num_epochs + 1), train_losses, label='Training Loss')\n",
    "plt.xlabel('Epoch')\n",
    "plt.ylabel('Loss')\n",
    "plt.title('Training Loss')\n",
    "\n",
    "plt.subplot(1, 2, 2)\n",
    "plt.plot(range(1, num_epochs + 1), train_accuracies, label='Training Accuracy')\n",
    "plt.xlabel('Epoch')\n",
    "plt.ylabel('Accuracy')\n",
    "plt.title('Training Accuracy')\n",
    "\n",
    "plt.tight_layout()\n",
    "plt.show()\n"
   ]
  },
  {
   "cell_type": "markdown",
   "metadata": {},
   "source": [
    "## Step 8: Evaluate the model"
   ]
  },
  {
   "cell_type": "code",
   "execution_count": 169,
   "metadata": {},
   "outputs": [
    {
     "name": "stdout",
     "output_type": "stream",
     "text": [
      "Predicted: 2, Actual: 2\n",
      "Predicted: 1, Actual: 1\n",
      "Predicted: 2, Actual: 2\n",
      "Predicted: 2, Actual: 2\n",
      "Predicted: 1, Actual: 1\n",
      "Predicted: 0, Actual: 0\n",
      "Predicted: 2, Actual: 2\n",
      "Test Accuracy: 100.00%\n"
     ]
    }
   ],
   "source": [
    "model.eval()\n",
    "correct = 0\n",
    "total = 0\n",
    "with torch.no_grad():\n",
    "    for images, labels in test_loader:\n",
    "        outputs = model(images)\n",
    "        _, predicted = torch.max(outputs.data, 1)\n",
    "        total += labels.size(0)\n",
    "        correct += (predicted == labels).sum().item()\n",
    "\n",
    "        # Print the predicted and actual labels\n",
    "        for i in range(len(labels)):\n",
    "            print(\"Predicted: {}, Actual: {}\".format(predicted[i], labels[i]))\n",
    "\n",
    "accuracy = correct / total\n",
    "print('Test Accuracy: {:.2f}%'.format(100 * accuracy))"
   ]
  },
  {
   "cell_type": "code",
   "execution_count": 170,
   "metadata": {},
   "outputs": [
    {
     "name": "stdout",
     "output_type": "stream",
     "text": [
      "Predicted: 2, Actual: 2\n",
      "Predicted: 1, Actual: 1\n",
      "Predicted: 2, Actual: 2\n",
      "Predicted: 2, Actual: 2\n",
      "Predicted: 1, Actual: 1\n",
      "Predicted: 0, Actual: 0\n",
      "Predicted: 2, Actual: 2\n",
      "Test Accuracy: 100.00%\n"
     ]
    },
    {
     "data": {
      "image/png": "[encoded data removed]",
      "text/plain": [
       "<Figure size 640x480 with 2 Axes>"
      ]
     },
     "metadata": {},
     "output_type": "display_data"
    }
   ],
   "source": [
    "import torch\n",
    "import matplotlib.pyplot as plt\n",
    "import numpy as np\n",
    "from sklearn.metrics import confusion_matrix, ConfusionMatrixDisplay\n",
    "\n",
    "# Assuming test_loader, model are already defined\n",
    "\n",
    "model.eval()\n",
    "all_preds = []\n",
    "all_labels = []\n",
    "\n",
    "with torch.no_grad():\n",
    "    for images, labels in test_loader:\n",
    "        outputs = model(images)\n",
    "        _, predicted = torch.max(outputs.data, 1)\n",
    "        all_preds.extend(predicted.cpu().numpy())\n",
    "        all_labels.extend(labels.cpu().numpy())\n",
    "\n",
    "        # Print the predicted and actual labels\n",
    "        for i in range(len(labels)):\n",
    "            print(\"Predicted: {}, Actual: {}\".format(predicted[i], labels[i]))\n",
    "\n",
    "# Calculate accuracy\n",
    "all_preds = np.array(all_preds)\n",
    "all_labels = np.array(all_labels)\n",
    "accuracy = (all_preds == all_labels).sum() / len(all_labels)\n",
    "print('Test Accuracy: {:.2f}%'.format(100 * accuracy))\n",
    "\n",
    "# Generate and plot confusion matrix\n",
    "cm = confusion_matrix(all_labels, all_preds)\n",
    "disp = ConfusionMatrixDisplay(confusion_matrix=cm)\n",
    "disp.plot(cmap=plt.cm.Blues)\n",
    "\n",
    "plt.show()"
   ]
  },
  {
   "cell_type": "code",
   "execution_count": 179,
   "metadata": {},
   "outputs": [],
   "source": [
    "# Save the model\n",
    "torch.save(model.state_dict(),  f'h:\\Yehmh\\_model\\\\0807_DNDF_101_CNN_{int(100 * accuracy)}.pth')"
   ]
  },
  {
   "cell_type": "code",
   "execution_count": 182,
   "metadata": {},
   "outputs": [
    {
     "name": "stdout",
     "output_type": "stream",
     "text": [
      "Predicted: Liqu_fo, Actual: Liqu_fo\n",
      "Predicted: Frax_gr, Actual: Frax_gr\n",
      "Predicted: Liqu_fo, Actual: Liqu_fo\n",
      "Predicted: Liqu_fo, Actual: Liqu_fo\n",
      "Predicted: Frax_gr, Actual: Frax_gr\n",
      "Predicted: Bisc_ja, Actual: Bisc_ja\n",
      "Predicted: Liqu_fo, Actual: Liqu_fo\n",
      "Test Accuracy: 100.00%\n"
     ]
    },
    {
     "data": {
      "image/png": "[encoded data removed]",
      "text/plain": [
       "<Figure size 640x480 with 2 Axes>"
      ]
     },
     "metadata": {},
     "output_type": "display_data"
    }
   ],
   "source": [
    "import torch\n",
    "import matplotlib.pyplot as plt\n",
    "import numpy as np\n",
    "from sklearn.metrics import confusion_matrix, ConfusionMatrixDisplay\n",
    "\n",
    "# Assuming test_loader, model are already defined\n",
    "\n",
    "class_names = ['Bisc_ja', 'Frax_gr', 'Liqu_fo']  # Define your class names here\n",
    "\n",
    "\n",
    "# Load the trained model\n",
    "model = CNN(num_classes=len(label_encoder.classes_))\n",
    "model.load_state_dict(torch.load('h:\\Yehmh\\_model\\\\0807_DNDF_101_CNN_100.pth'))\n",
    "\n",
    "model.eval()\n",
    "all_preds = []\n",
    "all_labels = []\n",
    "\n",
    "with torch.no_grad():\n",
    "    for images, labels in test_loader:\n",
    "        outputs = model(images)\n",
    "        _, predicted = torch.max(outputs.data, 1)\n",
    "        all_preds.extend(predicted.cpu().numpy())\n",
    "        all_labels.extend(labels.cpu().numpy())\n",
    "\n",
    "        # Print the predicted and actual labels\n",
    "        for i in range(len(labels)):\n",
    "            print(\"Predicted: {}, Actual: {}\".format(class_names[predicted[i]], class_names[labels[i]]))\n",
    "\n",
    "# Calculate accuracy\n",
    "all_preds = np.array(all_preds)\n",
    "all_labels = np.array(all_labels)\n",
    "accuracy = (all_preds == all_labels).sum() / len(all_labels)\n",
    "print('Test Accuracy: {:.2f}%'.format(100 * accuracy))\n",
    "\n",
    "# Generate and plot confusion matrix\n",
    "cm = confusion_matrix(all_labels, all_preds)\n",
    "disp = ConfusionMatrixDisplay(confusion_matrix=cm, display_labels=class_names)\n",
    "disp.plot(cmap=plt.cm.Blues)\n",
    "\n",
    "plt.show()\n"
   ]
  },
  {
   "cell_type": "markdown",
   "metadata": {},
   "source": [
    "## Classify Whole"
   ]
  },
  {
   "cell_type": "code",
   "execution_count": 173,
   "metadata": {},
   "outputs": [],
   "source": [
    "# import os\n",
    "# import cv2\n",
    "# import torch\n",
    "# import rasterio\n",
    "# import numpy as np\n",
    "# from torch.utils.data import DataLoader\n",
    "# from torchvision import transforms\n",
    "# # from your_model_file import CNN  # Import your CNN model class\n",
    "# import csv\n",
    "\n",
    "# # Function to extract coordinates from TIF files\n",
    "# def extract_coordinates(tif_file):\n",
    "#     with rasterio.open(tif_file) as src:\n",
    "#         crs = src.crs\n",
    "#         bounds = src.bounds\n",
    "#         center_x = (bounds.left + bounds.right) / 2\n",
    "#         center_y = (bounds.top + bounds.bottom) / 2\n",
    "#         return crs, (center_x, center_y)\n",
    "\n",
    "# # Define directory containing unknown TIF files\n",
    "# # unknown_photos_dir = 'D:\\\\Yehmh\\\\test_py\\\\202301\\\\P00073_transect_234\\\\10m_10m\\\\unknown'\n",
    "\n",
    "# def classify_and_write(unknown_photos_dir, output_csv_path):\n",
    "\n",
    "#     # Initialize lists to store unknown photo paths, coordinates, and predictions\n",
    "#     unknown_photos = []\n",
    "#     unknown_coordinates = []\n",
    "\n",
    "#     # Iterate over unknown TIF files\n",
    "#     for filename in os.listdir(unknown_photos_dir):\n",
    "#         if filename.endswith('.tif'):\n",
    "#             tif_file = os.path.join(unknown_photos_dir, filename)\n",
    "            \n",
    "#             # Extract coordinates\n",
    "#             crs, coordinates = extract_coordinates(tif_file)\n",
    "            \n",
    "#             # Append to the list\n",
    "#             unknown_photos.append(tif_file)\n",
    "#             unknown_coordinates.append((filename, crs, coordinates))\n",
    "\n",
    "#     # Now you have a list of unknown photo paths (unknown_photos) and corresponding coordinates (unknown_coordinates)\n",
    "\n",
    "#     # Load the trained model\n",
    "#     # model = CNN(num_classes=len(label_encoder.classes_))\n",
    "#     # model.load_state_dict(torch.load('path/to/your/trained/model.pth'))\n",
    "#     model.eval()  # Set the model to evaluation mode\n",
    "\n",
    "#     # Define transformations for the images\n",
    "#     transform = transforms.Compose([\n",
    "#         transforms.ToTensor(),  \n",
    "#         transforms.Normalize((0.5, 0.5, 0.5), (0.5, 0.5, 0.5))  \n",
    "#     ])\n",
    "\n",
    "#     # Make predictions on the unknown photos\n",
    "#     predictions = []\n",
    "#     for photo_path in unknown_photos:\n",
    "#         # Load and preprocess the image\n",
    "#         image = cv2.imread(photo_path)\n",
    "#         image = cv2.resize(image, (64, 64))  # Resize image if necessary\n",
    "#         image = transform(image)\n",
    "#         image = image.unsqueeze(0)  # Add batch dimension\n",
    "        \n",
    "#         # Perform inference\n",
    "#         with torch.no_grad():\n",
    "#             output = model(image)\n",
    "#             predicted_class = torch.argmax(output).item()\n",
    "#             predicted_label = label_encoder.classes_[predicted_class]\n",
    "#             predictions.append(predicted_label)\n",
    "\n",
    "#     # Now you have the predictions for each unknown photo in the list 'predictions'\n",
    "#     # You can proceed to visualize the results on a map using the coordinates\n",
    "#     with open(output_csv_path, 'w', newline='') as csvfile:\n",
    "#         writer = csv.writer(csvfile)\n",
    "#         writer.writerow(['Filename', 'Latitude', 'Longitude', 'Predicted Species'])  # Write header\n",
    "#         for coord, label in zip(unknown_coordinates, predictions):\n",
    "#             filename, crs, (latitude, longitude) = coord\n",
    "#             writer.writerow([filename, latitude, longitude, label])"
   ]
  },
  {
   "cell_type": "code",
   "execution_count": 174,
   "metadata": {},
   "outputs": [],
   "source": [
    "# import csv\n",
    "\n",
    "# # Define output CSV file path\n",
    "# # output_csv_path = 'D:/Yehmh/test_py/202301/P00073_transect_234/10m_10m/species_distribution.csv'\n",
    "\n",
    "\n",
    "# # Write results to CSV file\n",
    "# with open(output_csv_path, 'w', newline='') as csvfile:\n",
    "#     writer = csv.writer(csvfile)\n",
    "#     writer.writerow(['Filename', 'Latitude', 'Longitude', 'Predicted Species'])  # Write header\n",
    "#     for coord, label in zip(unknown_coordinates, predictions):\n",
    "#         filename, crs, (latitude, longitude) = coord\n",
    "#         writer.writerow([filename, latitude, longitude, label])\n"
   ]
  },
  {
   "cell_type": "code",
   "execution_count": 175,
   "metadata": {},
   "outputs": [],
   "source": [
    "# list = [69, 70, 71, 75, 76, 78, 79, 82]\n",
    "\n",
    "# for i in list:\n",
    "#     unknown_photos_dir = f'D:\\\\Yehmh\\\\test_py\\\\202301\\\\P000{i}\\\\5m_5m'\n",
    "#     output_csv_path = f'D:/Yehmh/test_py/202301/P000{i}_species_distribution.csv'\n",
    "    \n",
    "#     classify_and_write(unknown_photos_dir, output_csv_path)\n",
    "    \n",
    "#     print(i, \" done\")"
   ]
  },
  {
   "cell_type": "markdown",
   "metadata": {},
   "source": [
    "### add probabilities"
   ]
  },
  {
   "cell_type": "code",
   "execution_count": 176,
   "metadata": {},
   "outputs": [],
   "source": [
    "# import os\n",
    "# import cv2\n",
    "# import torch\n",
    "# import rasterio\n",
    "# import numpy as np\n",
    "# from torch.utils.data import DataLoader\n",
    "# from torchvision import transforms\n",
    "# # from your_model_file import CNN  # Import your CNN model class\n",
    "# import csv\n",
    "\n",
    "# # Function to extract coordinates from TIF files\n",
    "# def extract_coordinates(tif_file):\n",
    "#     with rasterio.open(tif_file) as src:\n",
    "#         crs = src.crs\n",
    "#         bounds = src.bounds\n",
    "#         center_x = (bounds.left + bounds.right) / 2\n",
    "#         center_y = (bounds.top + bounds.bottom) / 2\n",
    "#         return crs, (center_x, center_y)\n",
    "\n",
    "# # Define directory containing unknown TIF files\n",
    "# # unknown_photos_dir = 'D:\\\\Yehmh\\\\test_py\\\\202301\\\\P00073_transect_234\\\\10m_10m\\\\unknown_cleaned'\n",
    "\n",
    "# def classify_and_write(unknown_photos_dir, output_csv_path):\n",
    "\n",
    "#     # Initialize lists to store unknown photo paths, coordinates, and predictions\n",
    "#     unknown_photos = []\n",
    "#     unknown_coordinates = []\n",
    "\n",
    "#     # Iterate over unknown TIF files\n",
    "#     for filename in os.listdir(unknown_photos_dir):\n",
    "#         if filename.endswith('.tif'):\n",
    "#             tif_file = os.path.join(unknown_photos_dir, filename)\n",
    "            \n",
    "#             # Extract coordinates\n",
    "#             crs, coordinates = extract_coordinates(tif_file)\n",
    "            \n",
    "#             # Append to the list\n",
    "#             unknown_photos.append(tif_file)\n",
    "#             unknown_coordinates.append((filename, crs, coordinates))\n",
    "\n",
    "#     # Now you have a list of unknown photo paths (unknown_photos) and corresponding coordinates (unknown_coordinates)\n",
    "\n",
    "#     # Define a function to classify with threshold\n",
    "#     def classify_with_threshold(probabilities, threshold):\n",
    "#         max_prob, max_index = torch.max(probabilities, dim=1)\n",
    "#         if max_prob.item() < threshold:\n",
    "#             return \"unknown\"\n",
    "#         else:\n",
    "#             predicted_label = label_encoder.classes_[max_index.item()]\n",
    "#             return predicted_label  # Return the index of the class with the maximum probability\n",
    "\n",
    "\n",
    "#     # Load the trained model\n",
    "#     # model = CNN(num_classes=len(label_encoder.classes_))\n",
    "#     # model.load_state_dict(torch.load('path/to/your/trained/model.pth'))\n",
    "#     model.eval()  # Set the model to evaluation mode\n",
    "\n",
    "#     # Define transformations for the images\n",
    "#     transform = transforms.Compose([\n",
    "#         transforms.ToTensor(),  \n",
    "#         transforms.Normalize((0.5, 0.5, 0.5), (0.5, 0.5, 0.5))  \n",
    "#     ])\n",
    "\n",
    "#     # Make predictions on the unknown photos\n",
    "#     predictions = []\n",
    "#     for photo_path in unknown_photos:\n",
    "#         # Load and preprocess the image\n",
    "#         image = cv2.imread(photo_path)\n",
    "#         image = cv2.resize(image, (64, 64))  # Resize image if necessary\n",
    "#         image = transform(image)\n",
    "#         image = image.unsqueeze(0)  # Add batch dimension\n",
    "        \n",
    "#         # Perform inference\n",
    "#         with torch.no_grad():\n",
    "#             output = model(image)\n",
    "#             probabilities = nn.functional.softmax(output, dim=1)  # Apply softmax to get probabilities\n",
    "#             classification = classify_with_threshold(probabilities, threshold=0.7)  # Adjust threshold as needed\n",
    "#             predictions.append(classification)\n",
    "\n",
    "#     # Now you have the predictions for each unknown photo in the list 'predictions'\n",
    "#     # You can proceed to visualize the results on a map using the coordinates\n",
    "#     with open(output_csv_path, 'w', newline='') as csvfile:\n",
    "#         writer = csv.writer(csvfile)\n",
    "#         writer.writerow(['Filename', 'Latitude', 'Longitude', 'Predicted Species'])  # Write header\n",
    "#         for coord, label in zip(unknown_coordinates, predictions):\n",
    "#             filename, crs, (latitude, longitude) = coord\n",
    "#             writer.writerow([filename, latitude, longitude, label])"
   ]
  },
  {
   "cell_type": "code",
   "execution_count": 177,
   "metadata": {},
   "outputs": [],
   "source": [
    "# import csv\n",
    "\n",
    "# # Define output CSV file path\n",
    "# output_csv_path = 'D:/Yehmh/test_py/202301/P00073_transect_234/10m_10m/species_distribution_unclassified_2.csv'\n",
    "\n",
    "# # Write results to CSV file\n",
    "# with open(output_csv_path, 'w', newline='') as csvfile:\n",
    "#     writer = csv.writer(csvfile)\n",
    "#     writer.writerow(['Filename', 'Latitude', 'Longitude', 'Predicted Species'])  # Write header\n",
    "#     for coord, label in zip(unknown_coordinates, predictions):\n",
    "#         filename, crs, (latitude, longitude) = coord\n",
    "#         writer.writerow([filename, latitude, longitude, label])"
   ]
  },
  {
   "cell_type": "code",
   "execution_count": 178,
   "metadata": {},
   "outputs": [],
   "source": [
    "# unknown_photos_dir = 'h:\\\\Yehmh\\\\DNDF\\\\101_1_focus\\\\202404_101_seg_images'\n",
    "# output_csv_path = 'h:\\\\Yehmh\\\\DNDF\\\\101_1_focus\\\\20240626_CNN_prob.csv'\n",
    "# classify_and_write(unknown_photos_dir, output_csv_path)\n",
    "# print(\"done 1\")"
   ]
  }
 ],
 "metadata": {
  "kernelspec": {
   "display_name": "test",
   "language": "python",
   "name": "python3"
  },
  "language_info": {
   "codemirror_mode": {
    "name": "ipython",
    "version": 3
   },
   "file_extension": ".py",
   "mimetype": "text/x-python",
   "name": "python",
   "nbconvert_exporter": "python",
   "pygments_lexer": "ipython3",
   "version": "3.8.19"
  }
 },
 "nbformat": 4,
 "nbformat_minor": 2
}
