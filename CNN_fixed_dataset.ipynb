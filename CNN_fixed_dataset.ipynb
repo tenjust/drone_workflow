{
 "cells": [
  {
   "cell_type": "code",
   "execution_count": 2,
   "metadata": {},
   "outputs": [],
   "source": [
    "import os\n",
    "import pandas as pd\n",
    "import numpy as np\n",
    "import cv2\n",
    "import torch\n",
    "import torch.nn as nn\n",
    "import torch.optim as optim\n",
    "import torchvision.transforms as transforms\n",
    "from torch.utils.data import Dataset, DataLoader\n",
    "from sklearn.model_selection import train_test_split\n",
    "from sklearn.preprocessing import LabelEncoder\n",
    "\n",
    "# Define a custom dataset class\n",
    "class CustomDataset(Dataset):\n",
    "    def __init__(self, images, labels, transform=None):\n",
    "        self.images = images\n",
    "        self.labels = labels\n",
    "        self.transform = transform\n",
    "\n",
    "    def __len__(self):\n",
    "        return len(self.images)\n",
    "\n",
    "    def __getitem__(self, idx):\n",
    "        image = self.images[idx]\n",
    "        label = self.labels[idx]\n",
    "\n",
    "        if self.transform:\n",
    "            image = self.transform(image)\n",
    "\n",
    "        return image, label"
   ]
  },
  {
   "cell_type": "markdown",
   "metadata": {},
   "source": [
    "## Step 1: Data Preparation"
   ]
  },
  {
   "cell_type": "code",
   "execution_count": 3,
   "metadata": {},
   "outputs": [
    {
     "name": "stdout",
     "output_type": "stream",
     "text": [
      "image size:  (61, 71, 3)\n"
     ]
    }
   ],
   "source": [
    "# Function to load images from a directory\n",
    "def load_images_from_directory(directory):\n",
    "    X = []\n",
    "    y = []\n",
    "    for folder in os.listdir(directory):\n",
    "        for file in os.listdir(os.path.join(directory, folder)):\n",
    "            if file.endswith(\".tif\"):\n",
    "                image_path = os.path.join(directory, folder, file)\n",
    "                image = cv2.imread(image_path)\n",
    "                if image is None:\n",
    "                    continue\n",
    "                if image.shape[0] >= 64:\n",
    "                    image = cv2.resize(image, (64, 64))  # Resize image if necessary\n",
    "                else:\n",
    "                    print(\"image size: \", image.shape)\n",
    "                    continue\n",
    "                X.append(image)\n",
    "                y.append(folder)\n",
    "    return np.array(X), np.array(y)\n",
    "\n",
    "# Load training and test sets\n",
    "train_dir = 'train_set'\n",
    "test_dir = 'test_set'\n",
    "\n",
    "X_train, y_train = load_images_from_directory('H:\\\\Yehmh\\\\DNDF\\\\101_1_focus\\\\202404_101_seg_images_labeled_part\\\\train_set')\n",
    "X_test, y_test = load_images_from_directory('H:\\\\Yehmh\\\\DNDF\\\\101_1_focus\\\\202404_101_seg_images_labeled_part\\\\test_set')"
   ]
  },
  {
   "cell_type": "code",
   "execution_count": 140,
   "metadata": {},
   "outputs": [],
   "source": [
    "# import matplotlib.pyplot as plt\n",
    "\n",
    "# for image in X:\n",
    "#     plt.imshow(cv2.cvtColor(image, cv2.COLOR_BGR2RGB))\n",
    "#     plt.axis('off')\n",
    "#     plt.show()"
   ]
  },
  {
   "cell_type": "code",
   "execution_count": null,
   "metadata": {},
   "outputs": [],
   "source": [
    "# Encode labels\n",
    "label_encoder = LabelEncoder()\n",
    "y_train = label_encoder.fit_transform(y_train)\n",
    "y_test = label_encoder.transform(y_test)"
   ]
  },
  {
   "cell_type": "markdown",
   "metadata": {},
   "source": [
    "## Step 3: Define transformations and create datasets"
   ]
  },
  {
   "cell_type": "code",
   "execution_count": 143,
   "metadata": {},
   "outputs": [],
   "source": [
    "# transform = transforms.Compose([\n",
    "#     transforms.ToTensor(),  # Convert image to PyTorch tensor\n",
    "#     transforms.Normalize((0.5, 0.5, 0.5), (0.5, 0.5, 0.5))  # Normalize image data\n",
    "# ])\n",
    "\n",
    "# train_dataset = CustomDataset(X_train, y_train, transform=transform)\n",
    "# test_dataset = CustomDataset(X_test, y_test, transform=transform)"
   ]
  },
  {
   "cell_type": "code",
   "execution_count": 144,
   "metadata": {},
   "outputs": [
    {
     "name": "stdout",
     "output_type": "stream",
     "text": [
      "34 9\n"
     ]
    }
   ],
   "source": [
    "# Data Augmentation ------\n",
    "\n",
    "from PIL import Image\n",
    "\n",
    "train_transform = transforms.Compose([\n",
    "    transforms.Lambda(lambda x: Image.fromarray(x)),  # Convert NumPy array to PIL Image\n",
    "    transforms.RandomHorizontalFlip(),  # Randomly flip the images horizontally\n",
    "    transforms.RandomRotation(degrees=15),  # Randomly rotate the images by up to 15 degrees\n",
    "    transforms.RandomCrop(size=(64, 64), padding=4),  # Randomly crop a 32x32 region of the image with padding\n",
    "    transforms.ToTensor(),  # Convert image to PyTorch tensor\n",
    "    transforms.Normalize(mean=[0.5, 0.5, 0.5], std=[0.5, 0.5, 0.5])  # Normalize image data\n",
    "])\n",
    "\n",
    "test_transform = transforms.Compose([\n",
    "    transforms.ToTensor(),  # Convert image to PyTorch tensor\n",
    "    transforms.Normalize(mean=[0.5, 0.5, 0.5], std=[0.5, 0.5, 0.5])  # Normalize image data\n",
    "])\n",
    "\n",
    "train_dataset = CustomDataset(X_train, y_train, transform=train_transform)\n",
    "test_dataset = CustomDataset(X_test, y_test, transform=test_transform)\n",
    "\n",
    "print(len(train_dataset), len(test_dataset))"
   ]
  },
  {
   "cell_type": "markdown",
   "metadata": {},
   "source": [
    "## Step 4: Create data loaders"
   ]
  },
  {
   "cell_type": "code",
   "execution_count": 145,
   "metadata": {},
   "outputs": [],
   "source": [
    "batch_size = 32\n",
    "\n",
    "train_loader = DataLoader(train_dataset, batch_size=batch_size, shuffle=True)\n",
    "test_loader = DataLoader(test_dataset, batch_size=batch_size, shuffle=False)\n",
    "# test_loader is created with shuffle=False. \n",
    "# Ensures that the evaluation process remains consistent across different evaluations \n",
    "# and that the model is tested on the same data distribution every time"
   ]
  },
  {
   "cell_type": "markdown",
   "metadata": {},
   "source": [
    "## Step 5: Define the CNN model"
   ]
  },
  {
   "cell_type": "code",
   "execution_count": 146,
   "metadata": {},
   "outputs": [
    {
     "name": "stdout",
     "output_type": "stream",
     "text": [
      "(64, 64, 3)\n"
     ]
    }
   ],
   "source": [
    "print(image.shape)"
   ]
  },
  {
   "cell_type": "code",
   "execution_count": 147,
   "metadata": {},
   "outputs": [],
   "source": [
    "class CNN(nn.Module):\n",
    "    def __init__(self, num_classes):\n",
    "        super(CNN, self).__init__()\n",
    "        # Define the convolutional layers\n",
    "        self.conv1 = nn.Conv2d(3, 32, kernel_size=3, padding=1)     # (in_channels (rgb), out_channels, filter_num, stride, padding), default stride = 1\n",
    "        self.conv2 = nn.Conv2d(32, 64, kernel_size=3, padding=1)\n",
    "        self.conv3 = nn.Conv2d(64, 64, kernel_size=3, padding=1)\n",
    "        # Define the fully connected layers\n",
    "        self.fc1 = nn.Linear(64 * 8 * 8, 128)\n",
    "        # self.fc1 = nn.Linear(64 * 4 * 4, 128)\n",
    "        self.fc2 = nn.Linear(128, num_classes)\n",
    "\n",
    "    def forward(self, x):\n",
    "        # Define the forward pass through the network\n",
    "        x = nn.functional.relu(self.conv1(x))\n",
    "        x = nn.functional.max_pool2d(x, 2)\n",
    "        x = nn.functional.relu(self.conv2(x))\n",
    "        x = nn.functional.max_pool2d(x, 2)\n",
    "        x = nn.functional.relu(self.conv3(x))\n",
    "        x = nn.functional.max_pool2d(x, 2)\n",
    "        # x = x.view(-1, 64 * 16 * 16)\n",
    "        x = x.view(x.size(0), -1)\n",
    "        x = nn.functional.relu(self.fc1(x))\n",
    "        x = self.fc2(x)\n",
    "        return x\n",
    "        # return nn.functional.softmax(x, dim=1)  # Apply softmax activation for multi-class classification"
   ]
  },
  {
   "cell_type": "markdown",
   "metadata": {},
   "source": [
    "## Step 6: Initialize model. loss function, and optimizer"
   ]
  },
  {
   "cell_type": "code",
   "execution_count": 148,
   "metadata": {},
   "outputs": [],
   "source": [
    "model = CNN(num_classes=len(label_encoder.classes_))\n",
    "criterion = nn.CrossEntropyLoss()\n",
    "optimizer = optim.Adam(model.parameters(), lr=0.001)"
   ]
  },
  {
   "cell_type": "code",
   "execution_count": 149,
   "metadata": {},
   "outputs": [
    {
     "name": "stdout",
     "output_type": "stream",
     "text": [
      "6\n"
     ]
    }
   ],
   "source": [
    "print(len(label_encoder.classes_))"
   ]
  },
  {
   "cell_type": "markdown",
   "metadata": {},
   "source": [
    "## Step 7: Train the model"
   ]
  },
  {
   "cell_type": "code",
   "execution_count": 151,
   "metadata": {},
   "outputs": [],
   "source": [
    "# num_epochs = 5000\n",
    "# for epoch in range(num_epochs):\n",
    "#     model.train()\n",
    "#     for images, labels in train_loader:\n",
    "#         # print(\"Batch Shape - Images:\", images.shape)\n",
    "#         # print(\"Batch Shape - Labels:\", labels.shape)\n",
    "\n",
    "#         optimizer.zero_grad()   # Zero the gradient\n",
    "#         outputs = model(images) # Forward pass: computer predicted outputs\n",
    "#         # print(outputs.shape)\n",
    "#         loss = criterion(outputs, labels) # Compute the loss\n",
    "#         loss.backward()     # Backward pass: compute gradient of the loss with respect to model parameters\n",
    "#         optimizer.step()    # Update the model parameters based on the gradients\n",
    "\n",
    "#     print(f\"Epoch [{epoch + 1}/{num_epochs}], Loss: {loss.item()}\")"
   ]
  },
  {
   "cell_type": "code",
   "execution_count": 152,
   "metadata": {},
   "outputs": [
    {
     "name": "stdout",
     "output_type": "stream",
     "text": [
      "Epoch [1/100], Loss: 1.7110869884490967, Accuracy: 0.08823529411764706\n",
      "Epoch [2/100], Loss: 1.898968517780304, Accuracy: 0.4117647058823529\n",
      "Epoch [3/100], Loss: 1.2939037084579468, Accuracy: 0.6176470588235294\n",
      "Epoch [4/100], Loss: 1.527587890625, Accuracy: 0.2647058823529412\n",
      "Epoch [5/100], Loss: 1.2973105311393738, Accuracy: 0.2647058823529412\n",
      "Epoch [6/100], Loss: 1.7602949738502502, Accuracy: 0.2647058823529412\n",
      "Epoch [7/100], Loss: 1.409416377544403, Accuracy: 0.29411764705882354\n",
      "Epoch [8/100], Loss: 1.4882920384407043, Accuracy: 0.5294117647058824\n",
      "Epoch [9/100], Loss: 1.3056774735450745, Accuracy: 0.6176470588235294\n",
      "Epoch [10/100], Loss: 1.2511005401611328, Accuracy: 0.6176470588235294\n",
      "Epoch [11/100], Loss: 1.6756499409675598, Accuracy: 0.5882352941176471\n",
      "Epoch [12/100], Loss: 1.5899935960769653, Accuracy: 0.5882352941176471\n",
      "Epoch [13/100], Loss: 1.9207634925842285, Accuracy: 0.6470588235294118\n",
      "Epoch [14/100], Loss: 1.4218568205833435, Accuracy: 0.6470588235294118\n",
      "Epoch [15/100], Loss: 1.3207237124443054, Accuracy: 0.7058823529411765\n",
      "Epoch [16/100], Loss: 1.1422186493873596, Accuracy: 0.5588235294117647\n",
      "Epoch [17/100], Loss: 1.2243350148200989, Accuracy: 0.4411764705882353\n",
      "Epoch [18/100], Loss: 1.8389562964439392, Accuracy: 0.4117647058823529\n",
      "Epoch [19/100], Loss: 1.2873582243919373, Accuracy: 0.5294117647058824\n",
      "Epoch [20/100], Loss: 0.866989016532898, Accuracy: 0.6470588235294118\n",
      "Epoch [21/100], Loss: 1.145775020122528, Accuracy: 0.5882352941176471\n",
      "Epoch [22/100], Loss: 1.0930270552635193, Accuracy: 0.5588235294117647\n",
      "Epoch [23/100], Loss: 1.0678496956825256, Accuracy: 0.5882352941176471\n",
      "Epoch [24/100], Loss: 0.6415494233369827, Accuracy: 0.6764705882352942\n",
      "Epoch [25/100], Loss: 1.23412424325943, Accuracy: 0.6470588235294118\n",
      "Epoch [26/100], Loss: 0.6874566078186035, Accuracy: 0.6764705882352942\n",
      "Epoch [27/100], Loss: 1.0639305114746094, Accuracy: 0.6176470588235294\n",
      "Epoch [28/100], Loss: 0.6440855264663696, Accuracy: 0.6764705882352942\n",
      "Epoch [29/100], Loss: 0.6480377987027168, Accuracy: 0.5882352941176471\n",
      "Epoch [30/100], Loss: 0.7071027606725693, Accuracy: 0.5882352941176471\n",
      "Epoch [31/100], Loss: 0.7175701707601547, Accuracy: 0.6176470588235294\n",
      "Epoch [32/100], Loss: 0.5969109237194061, Accuracy: 0.6470588235294118\n",
      "Epoch [33/100], Loss: 2.0596774220466614, Accuracy: 0.5882352941176471\n",
      "Epoch [34/100], Loss: 1.3057678639888763, Accuracy: 0.6470588235294118\n",
      "Epoch [35/100], Loss: 0.6692932546138763, Accuracy: 0.6764705882352942\n",
      "Epoch [36/100], Loss: 0.9398311674594879, Accuracy: 0.5588235294117647\n",
      "Epoch [37/100], Loss: 0.8436709642410278, Accuracy: 0.5\n",
      "Epoch [38/100], Loss: 0.672329306602478, Accuracy: 0.5294117647058824\n",
      "Epoch [39/100], Loss: 1.7106260359287262, Accuracy: 0.5882352941176471\n",
      "Epoch [40/100], Loss: 0.8636577725410461, Accuracy: 0.6176470588235294\n",
      "Epoch [41/100], Loss: 0.8687596023082733, Accuracy: 0.7352941176470589\n",
      "Epoch [42/100], Loss: 0.7452613413333893, Accuracy: 0.6764705882352942\n",
      "Epoch [43/100], Loss: 1.1994789838790894, Accuracy: 0.5882352941176471\n",
      "Epoch [44/100], Loss: 0.9113143980503082, Accuracy: 0.6470588235294118\n",
      "Epoch [45/100], Loss: 0.9947703778743744, Accuracy: 0.6470588235294118\n",
      "Epoch [46/100], Loss: 1.0188578069210052, Accuracy: 0.7058823529411765\n",
      "Epoch [47/100], Loss: 0.6938059628009796, Accuracy: 0.7058823529411765\n",
      "Epoch [48/100], Loss: 0.5318955928087234, Accuracy: 0.6176470588235294\n",
      "Epoch [49/100], Loss: 0.8767357170581818, Accuracy: 0.5588235294117647\n",
      "Epoch [50/100], Loss: 0.6941073834896088, Accuracy: 0.7352941176470589\n",
      "Epoch [51/100], Loss: 0.750330001115799, Accuracy: 0.7352941176470589\n",
      "Epoch [52/100], Loss: 0.5194211900234222, Accuracy: 0.7352941176470589\n",
      "Epoch [53/100], Loss: 0.422431418672204, Accuracy: 0.7058823529411765\n",
      "Epoch [54/100], Loss: 1.0339618623256683, Accuracy: 0.6764705882352942\n",
      "Epoch [55/100], Loss: 0.5236041843891144, Accuracy: 0.7058823529411765\n",
      "Epoch [56/100], Loss: 0.8241786658763885, Accuracy: 0.6470588235294118\n",
      "Epoch [57/100], Loss: 0.41640157997608185, Accuracy: 0.7647058823529411\n",
      "Epoch [58/100], Loss: 0.39146745204925537, Accuracy: 0.7058823529411765\n",
      "Epoch [59/100], Loss: 0.40709541738033295, Accuracy: 0.7352941176470589\n",
      "Epoch [60/100], Loss: 0.9142051935195923, Accuracy: 0.6764705882352942\n",
      "Epoch [61/100], Loss: 0.9228631854057312, Accuracy: 0.6764705882352942\n",
      "Epoch [62/100], Loss: 0.6580125987529755, Accuracy: 0.7352941176470589\n",
      "Epoch [63/100], Loss: 0.5563473999500275, Accuracy: 0.6176470588235294\n",
      "Epoch [64/100], Loss: 0.8320050537586212, Accuracy: 0.8235294117647058\n",
      "Epoch [65/100], Loss: 0.32918159291148186, Accuracy: 0.7647058823529411\n",
      "Epoch [66/100], Loss: 0.503195732831955, Accuracy: 0.7941176470588235\n",
      "Epoch [67/100], Loss: 0.4874149560928345, Accuracy: 0.7058823529411765\n",
      "Epoch [68/100], Loss: 0.6511644423007965, Accuracy: 0.6470588235294118\n",
      "Epoch [69/100], Loss: 0.32438843324780464, Accuracy: 0.7647058823529411\n",
      "Epoch [70/100], Loss: 0.44324155151844025, Accuracy: 0.8529411764705882\n",
      "Epoch [71/100], Loss: 0.44569841027259827, Accuracy: 0.8529411764705882\n",
      "Epoch [72/100], Loss: 0.9779015481472015, Accuracy: 0.7058823529411765\n",
      "Epoch [73/100], Loss: 0.8888031542301178, Accuracy: 0.7058823529411765\n",
      "Epoch [74/100], Loss: 0.7568034529685974, Accuracy: 0.7058823529411765\n",
      "Epoch [75/100], Loss: 0.3351197727024555, Accuracy: 0.7647058823529411\n",
      "Epoch [76/100], Loss: 2.5664325058460236, Accuracy: 0.7352941176470589\n",
      "Epoch [77/100], Loss: 0.42514966055750847, Accuracy: 0.7058823529411765\n",
      "Epoch [78/100], Loss: 0.9136322438716888, Accuracy: 0.7058823529411765\n",
      "Epoch [79/100], Loss: 0.930382490158081, Accuracy: 0.5\n",
      "Epoch [80/100], Loss: 0.6588182747364044, Accuracy: 0.6176470588235294\n",
      "Epoch [81/100], Loss: 0.9933722913265228, Accuracy: 0.6470588235294118\n",
      "Epoch [82/100], Loss: 0.7223905026912689, Accuracy: 0.5588235294117647\n",
      "Epoch [83/100], Loss: 0.9959156513214111, Accuracy: 0.6176470588235294\n",
      "Epoch [84/100], Loss: 1.104302853345871, Accuracy: 0.6176470588235294\n",
      "Epoch [85/100], Loss: 0.8067494332790375, Accuracy: 0.7647058823529411\n",
      "Epoch [86/100], Loss: 0.5640843510627747, Accuracy: 0.7647058823529411\n",
      "Epoch [87/100], Loss: 0.4509474113583565, Accuracy: 0.6764705882352942\n",
      "Epoch [88/100], Loss: 0.5766495764255524, Accuracy: 0.6176470588235294\n",
      "Epoch [89/100], Loss: 1.03021439909935, Accuracy: 0.7352941176470589\n",
      "Epoch [90/100], Loss: 0.6595935523509979, Accuracy: 0.7352941176470589\n",
      "Epoch [91/100], Loss: 0.5339890569448471, Accuracy: 0.7647058823529411\n",
      "Epoch [92/100], Loss: 0.4615350663661957, Accuracy: 0.8235294117647058\n",
      "Epoch [93/100], Loss: 0.857132077217102, Accuracy: 0.7941176470588235\n",
      "Epoch [94/100], Loss: 0.4225770831108093, Accuracy: 0.7647058823529411\n",
      "Epoch [95/100], Loss: 0.39602959156036377, Accuracy: 0.7647058823529411\n",
      "Epoch [96/100], Loss: 0.49370020627975464, Accuracy: 0.7941176470588235\n",
      "Epoch [97/100], Loss: 0.8644440323114395, Accuracy: 0.7941176470588235\n",
      "Epoch [98/100], Loss: 0.7325876951217651, Accuracy: 0.7058823529411765\n",
      "Epoch [99/100], Loss: 0.48143377900123596, Accuracy: 0.7647058823529411\n",
      "Epoch [100/100], Loss: 0.2972266376018524, Accuracy: 0.8529411764705882\n"
     ]
    },
    {
     "data": {
      "image/png": "[encoded data removed]",
      "text/plain": [
       "<Figure size 1000x500 with 2 Axes>"
      ]
     },
     "metadata": {},
     "output_type": "display_data"
    }
   ],
   "source": [
    "import matplotlib.pyplot as plt\n",
    "\n",
    "num_epochs = 100\n",
    "train_losses = []\n",
    "train_accuracies = []\n",
    "\n",
    "for epoch in range(num_epochs):\n",
    "    model.train()\n",
    "    correct = 0\n",
    "    total = 0\n",
    "    epoch_loss = 0.0\n",
    "    \n",
    "    for images, labels in train_loader:\n",
    "        optimizer.zero_grad()   # Zero the gradient\n",
    "        outputs = model(images) # Forward pass: compute predicted outputs\n",
    "        loss = criterion(outputs, labels) # Compute the loss\n",
    "        loss.backward()     # Backward pass: compute gradient of the loss with respect to model parameters\n",
    "        optimizer.step()    # Update the model parameters based on the gradients\n",
    "        \n",
    "        _, predicted = torch.max(outputs.data, 1)\n",
    "        total += labels.size(0)\n",
    "        correct += (predicted == labels).sum().item()\n",
    "        epoch_loss += loss.item()\n",
    "\n",
    "    train_accuracy = correct / total\n",
    "    train_loss = epoch_loss / len(train_loader)\n",
    "    train_accuracies.append(train_accuracy)\n",
    "    train_losses.append(train_loss)\n",
    "\n",
    "    print(f\"Epoch [{epoch + 1}/{num_epochs}], Loss: {train_loss}, Accuracy: {train_accuracy}\")\n",
    "\n",
    "# Plotting\n",
    "plt.figure(figsize=(10, 5))\n",
    "plt.subplot(1, 2, 1)\n",
    "plt.plot(range(1, num_epochs + 1), train_losses, label='Training Loss')\n",
    "plt.xlabel('Epoch')\n",
    "plt.ylabel('Loss')\n",
    "plt.title('Training Loss')\n",
    "\n",
    "plt.subplot(1, 2, 2)\n",
    "plt.plot(range(1, num_epochs + 1), train_accuracies, label='Training Accuracy')\n",
    "plt.xlabel('Epoch')\n",
    "plt.ylabel('Accuracy')\n",
    "plt.title('Training Accuracy')\n",
    "\n",
    "plt.tight_layout()\n",
    "plt.show()\n"
   ]
  },
  {
   "cell_type": "markdown",
   "metadata": {},
   "source": [
    "## Step 8: Evaluate the model"
   ]
  },
  {
   "cell_type": "code",
   "execution_count": 153,
   "metadata": {},
   "outputs": [
    {
     "name": "stdout",
     "output_type": "stream",
     "text": [
      "Predicted: 3, Actual: 0\n",
      "Predicted: 4, Actual: 4\n",
      "Predicted: 4, Actual: 4\n",
      "Predicted: 3, Actual: 0\n",
      "Predicted: 3, Actual: 0\n",
      "Predicted: 3, Actual: 0\n",
      "Predicted: 3, Actual: 3\n",
      "Predicted: 2, Actual: 3\n",
      "Predicted: 3, Actual: 3\n",
      "Test Accuracy: 44.44%\n"
     ]
    }
   ],
   "source": [
    "model.eval()\n",
    "correct = 0\n",
    "total = 0\n",
    "with torch.no_grad():\n",
    "    for images, labels in test_loader:\n",
    "        outputs = model(images)\n",
    "        _, predicted = torch.max(outputs.data, 1)\n",
    "        total += labels.size(0)\n",
    "        correct += (predicted == labels).sum().item()\n",
    "\n",
    "        # Print the predicted and actual labels\n",
    "        for i in range(len(labels)):\n",
    "            print(\"Predicted: {}, Actual: {}\".format(predicted[i], labels[i]))\n",
    "\n",
    "accuracy = correct / total\n",
    "print('Test Accuracy: {:.2f}%'.format(100 * accuracy))"
   ]
  },
  {
   "cell_type": "markdown",
   "metadata": {},
   "source": [
    "## Classify Whole"
   ]
  },
  {
   "cell_type": "code",
   "execution_count": 154,
   "metadata": {},
   "outputs": [],
   "source": [
    "# import os\n",
    "# import cv2\n",
    "# import torch\n",
    "# import rasterio\n",
    "# import numpy as np\n",
    "# from torch.utils.data import DataLoader\n",
    "# from torchvision import transforms\n",
    "# # from your_model_file import CNN  # Import your CNN model class\n",
    "# import csv\n",
    "\n",
    "# # Function to extract coordinates from TIF files\n",
    "# def extract_coordinates(tif_file):\n",
    "#     with rasterio.open(tif_file) as src:\n",
    "#         crs = src.crs\n",
    "#         bounds = src.bounds\n",
    "#         center_x = (bounds.left + bounds.right) / 2\n",
    "#         center_y = (bounds.top + bounds.bottom) / 2\n",
    "#         return crs, (center_x, center_y)\n",
    "\n",
    "# # Define directory containing unknown TIF files\n",
    "# # unknown_photos_dir = 'D:\\\\Yehmh\\\\test_py\\\\202301\\\\P00073_transect_234\\\\10m_10m\\\\unknown'\n",
    "\n",
    "# def classify_and_write(unknown_photos_dir, output_csv_path):\n",
    "\n",
    "#     # Initialize lists to store unknown photo paths, coordinates, and predictions\n",
    "#     unknown_photos = []\n",
    "#     unknown_coordinates = []\n",
    "\n",
    "#     # Iterate over unknown TIF files\n",
    "#     for filename in os.listdir(unknown_photos_dir):\n",
    "#         if filename.endswith('.tif'):\n",
    "#             tif_file = os.path.join(unknown_photos_dir, filename)\n",
    "            \n",
    "#             # Extract coordinates\n",
    "#             crs, coordinates = extract_coordinates(tif_file)\n",
    "            \n",
    "#             # Append to the list\n",
    "#             unknown_photos.append(tif_file)\n",
    "#             unknown_coordinates.append((filename, crs, coordinates))\n",
    "\n",
    "#     # Now you have a list of unknown photo paths (unknown_photos) and corresponding coordinates (unknown_coordinates)\n",
    "\n",
    "#     # Load the trained model\n",
    "#     # model = CNN(num_classes=len(label_encoder.classes_))\n",
    "#     # model.load_state_dict(torch.load('path/to/your/trained/model.pth'))\n",
    "#     model.eval()  # Set the model to evaluation mode\n",
    "\n",
    "#     # Define transformations for the images\n",
    "#     transform = transforms.Compose([\n",
    "#         transforms.ToTensor(),  \n",
    "#         transforms.Normalize((0.5, 0.5, 0.5), (0.5, 0.5, 0.5))  \n",
    "#     ])\n",
    "\n",
    "#     # Make predictions on the unknown photos\n",
    "#     predictions = []\n",
    "#     for photo_path in unknown_photos:\n",
    "#         # Load and preprocess the image\n",
    "#         image = cv2.imread(photo_path)\n",
    "#         image = cv2.resize(image, (64, 64))  # Resize image if necessary\n",
    "#         image = transform(image)\n",
    "#         image = image.unsqueeze(0)  # Add batch dimension\n",
    "        \n",
    "#         # Perform inference\n",
    "#         with torch.no_grad():\n",
    "#             output = model(image)\n",
    "#             predicted_class = torch.argmax(output).item()\n",
    "#             predicted_label = label_encoder.classes_[predicted_class]\n",
    "#             predictions.append(predicted_label)\n",
    "\n",
    "#     # Now you have the predictions for each unknown photo in the list 'predictions'\n",
    "#     # You can proceed to visualize the results on a map using the coordinates\n",
    "#     with open(output_csv_path, 'w', newline='') as csvfile:\n",
    "#         writer = csv.writer(csvfile)\n",
    "#         writer.writerow(['Filename', 'Latitude', 'Longitude', 'Predicted Species'])  # Write header\n",
    "#         for coord, label in zip(unknown_coordinates, predictions):\n",
    "#             filename, crs, (latitude, longitude) = coord\n",
    "#             writer.writerow([filename, latitude, longitude, label])"
   ]
  },
  {
   "cell_type": "code",
   "execution_count": 155,
   "metadata": {},
   "outputs": [],
   "source": [
    "# import csv\n",
    "\n",
    "# # Define output CSV file path\n",
    "# # output_csv_path = 'D:/Yehmh/test_py/202301/P00073_transect_234/10m_10m/species_distribution.csv'\n",
    "\n",
    "\n",
    "# # Write results to CSV file\n",
    "# with open(output_csv_path, 'w', newline='') as csvfile:\n",
    "#     writer = csv.writer(csvfile)\n",
    "#     writer.writerow(['Filename', 'Latitude', 'Longitude', 'Predicted Species'])  # Write header\n",
    "#     for coord, label in zip(unknown_coordinates, predictions):\n",
    "#         filename, crs, (latitude, longitude) = coord\n",
    "#         writer.writerow([filename, latitude, longitude, label])\n"
   ]
  },
  {
   "cell_type": "code",
   "execution_count": 156,
   "metadata": {},
   "outputs": [],
   "source": [
    "# list = [69, 70, 71, 75, 76, 78, 79, 82]\n",
    "\n",
    "# for i in list:\n",
    "#     unknown_photos_dir = f'D:\\\\Yehmh\\\\test_py\\\\202301\\\\P000{i}\\\\5m_5m'\n",
    "#     output_csv_path = f'D:/Yehmh/test_py/202301/P000{i}_species_distribution.csv'\n",
    "    \n",
    "#     classify_and_write(unknown_photos_dir, output_csv_path)\n",
    "    \n",
    "#     print(i, \" done\")"
   ]
  },
  {
   "cell_type": "markdown",
   "metadata": {},
   "source": [
    "### add probabilities"
   ]
  },
  {
   "cell_type": "code",
   "execution_count": 157,
   "metadata": {},
   "outputs": [],
   "source": [
    "import os\n",
    "import cv2\n",
    "import torch\n",
    "import rasterio\n",
    "import numpy as np\n",
    "from torch.utils.data import DataLoader\n",
    "from torchvision import transforms\n",
    "# from your_model_file import CNN  # Import your CNN model class\n",
    "import csv\n",
    "\n",
    "# Function to extract coordinates from TIF files\n",
    "def extract_coordinates(tif_file):\n",
    "    with rasterio.open(tif_file) as src:\n",
    "        crs = src.crs\n",
    "        bounds = src.bounds\n",
    "        center_x = (bounds.left + bounds.right) / 2\n",
    "        center_y = (bounds.top + bounds.bottom) / 2\n",
    "        return crs, (center_x, center_y)\n",
    "\n",
    "# Define directory containing unknown TIF files\n",
    "# unknown_photos_dir = 'D:\\\\Yehmh\\\\test_py\\\\202301\\\\P00073_transect_234\\\\10m_10m\\\\unknown_cleaned'\n",
    "\n",
    "def classify_and_write(unknown_photos_dir, output_csv_path):\n",
    "\n",
    "    # Initialize lists to store unknown photo paths, coordinates, and predictions\n",
    "    unknown_photos = []\n",
    "    unknown_coordinates = []\n",
    "\n",
    "    # Iterate over unknown TIF files\n",
    "    for filename in os.listdir(unknown_photos_dir):\n",
    "        if filename.endswith('.tif'):\n",
    "            tif_file = os.path.join(unknown_photos_dir, filename)\n",
    "            \n",
    "            # Extract coordinates\n",
    "            crs, coordinates = extract_coordinates(tif_file)\n",
    "            \n",
    "            # Append to the list\n",
    "            unknown_photos.append(tif_file)\n",
    "            unknown_coordinates.append((filename, crs, coordinates))\n",
    "\n",
    "    # Now you have a list of unknown photo paths (unknown_photos) and corresponding coordinates (unknown_coordinates)\n",
    "\n",
    "    # Define a function to classify with threshold\n",
    "    def classify_with_threshold(probabilities, threshold):\n",
    "        max_prob, max_index = torch.max(probabilities, dim=1)\n",
    "        if max_prob.item() < threshold:\n",
    "            return \"unknown\"\n",
    "        else:\n",
    "            predicted_label = label_encoder.classes_[max_index.item()]\n",
    "            return predicted_label  # Return the index of the class with the maximum probability\n",
    "\n",
    "\n",
    "    # Load the trained model\n",
    "    # model = CNN(num_classes=len(label_encoder.classes_))\n",
    "    # model.load_state_dict(torch.load('path/to/your/trained/model.pth'))\n",
    "    model.eval()  # Set the model to evaluation mode\n",
    "\n",
    "    # Define transformations for the images\n",
    "    transform = transforms.Compose([\n",
    "        transforms.ToTensor(),  \n",
    "        transforms.Normalize((0.5, 0.5, 0.5), (0.5, 0.5, 0.5))  \n",
    "    ])\n",
    "\n",
    "    # Make predictions on the unknown photos\n",
    "    predictions = []\n",
    "    for photo_path in unknown_photos:\n",
    "        # Load and preprocess the image\n",
    "        image = cv2.imread(photo_path)\n",
    "        image = cv2.resize(image, (64, 64))  # Resize image if necessary\n",
    "        image = transform(image)\n",
    "        image = image.unsqueeze(0)  # Add batch dimension\n",
    "        \n",
    "        # Perform inference\n",
    "        with torch.no_grad():\n",
    "            output = model(image)\n",
    "            probabilities = nn.functional.softmax(output, dim=1)  # Apply softmax to get probabilities\n",
    "            classification = classify_with_threshold(probabilities, threshold=0.7)  # Adjust threshold as needed\n",
    "            predictions.append(classification)\n",
    "\n",
    "    # Now you have the predictions for each unknown photo in the list 'predictions'\n",
    "    # You can proceed to visualize the results on a map using the coordinates\n",
    "    with open(output_csv_path, 'w', newline='') as csvfile:\n",
    "        writer = csv.writer(csvfile)\n",
    "        writer.writerow(['Filename', 'Latitude', 'Longitude', 'Predicted Species'])  # Write header\n",
    "        for coord, label in zip(unknown_coordinates, predictions):\n",
    "            filename, crs, (latitude, longitude) = coord\n",
    "            writer.writerow([filename, latitude, longitude, label])"
   ]
  },
  {
   "cell_type": "code",
   "execution_count": 158,
   "metadata": {},
   "outputs": [],
   "source": [
    "# import csv\n",
    "\n",
    "# # Define output CSV file path\n",
    "# output_csv_path = 'D:/Yehmh/test_py/202301/P00073_transect_234/10m_10m/species_distribution_unclassified_2.csv'\n",
    "\n",
    "# # Write results to CSV file\n",
    "# with open(output_csv_path, 'w', newline='') as csvfile:\n",
    "#     writer = csv.writer(csvfile)\n",
    "#     writer.writerow(['Filename', 'Latitude', 'Longitude', 'Predicted Species'])  # Write header\n",
    "#     for coord, label in zip(unknown_coordinates, predictions):\n",
    "#         filename, crs, (latitude, longitude) = coord\n",
    "#         writer.writerow([filename, latitude, longitude, label])"
   ]
  },
  {
   "cell_type": "code",
   "execution_count": 159,
   "metadata": {},
   "outputs": [
    {
     "name": "stdout",
     "output_type": "stream",
     "text": [
      "done 1\n"
     ]
    }
   ],
   "source": [
    "unknown_photos_dir = 'h:\\\\Yehmh\\\\DNDF\\\\101_1_focus\\\\202404_101_seg_images'\n",
    "output_csv_path = 'h:\\\\Yehmh\\\\DNDF\\\\101_1_focus\\\\20240626_CNN_prob.csv'\n",
    "classify_and_write(unknown_photos_dir, output_csv_path)\n",
    "print(\"done 1\")"
   ]
  }
 ],
 "metadata": {
  "kernelspec": {
   "display_name": "test",
   "language": "python",
   "name": "python3"
  },
  "language_info": {
   "codemirror_mode": {
    "name": "ipython",
    "version": 3
   },
   "file_extension": ".py",
   "mimetype": "text/x-python",
   "name": "python",
   "nbconvert_exporter": "python",
   "pygments_lexer": "ipython3",
   "version": "3.8.19"
  }
 },
 "nbformat": 4,
 "nbformat_minor": 2
}
