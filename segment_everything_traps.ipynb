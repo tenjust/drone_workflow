{
 "cells": [
  {
   "cell_type": "code",
   "execution_count": 1,
   "metadata": {},
   "outputs": [
    {
     "name": "stdout",
     "output_type": "stream",
     "text": [
      "Segmented and saved T1S1.tif as \\Yehmh\\ZF\\202403_georeferenced\\traps_images_seg_2\\segmented_T1S1.shp\n",
      "Segmented and saved T1S10.tif as \\Yehmh\\ZF\\202403_georeferenced\\traps_images_seg_2\\segmented_T1S10.shp\n",
      "Segmented and saved T1S2.tif as \\Yehmh\\ZF\\202403_georeferenced\\traps_images_seg_2\\segmented_T1S2.shp\n",
      "Segmented and saved T1S3.tif as \\Yehmh\\ZF\\202403_georeferenced\\traps_images_seg_2\\segmented_T1S3.shp\n",
      "Segmented and saved T1S4.tif as \\Yehmh\\ZF\\202403_georeferenced\\traps_images_seg_2\\segmented_T1S4.shp\n",
      "Segmented and saved T1S5.tif as \\Yehmh\\ZF\\202403_georeferenced\\traps_images_seg_2\\segmented_T1S5.shp\n",
      "Segmented and saved T1S6.tif as \\Yehmh\\ZF\\202403_georeferenced\\traps_images_seg_2\\segmented_T1S6.shp\n",
      "Segmented and saved T1S7.tif as \\Yehmh\\ZF\\202403_georeferenced\\traps_images_seg_2\\segmented_T1S7.shp\n",
      "Segmented and saved T1S8.tif as \\Yehmh\\ZF\\202403_georeferenced\\traps_images_seg_2\\segmented_T1S8.shp\n",
      "Segmented and saved T1S9.tif as \\Yehmh\\ZF\\202403_georeferenced\\traps_images_seg_2\\segmented_T1S9.shp\n",
      "Segmented and saved T2S1.tif as \\Yehmh\\ZF\\202403_georeferenced\\traps_images_seg_2\\segmented_T2S1.shp\n",
      "Segmented and saved T2S10.tif as \\Yehmh\\ZF\\202403_georeferenced\\traps_images_seg_2\\segmented_T2S10.shp\n",
      "Segmented and saved T2S2.tif as \\Yehmh\\ZF\\202403_georeferenced\\traps_images_seg_2\\segmented_T2S2.shp\n",
      "Segmented and saved T2S3.tif as \\Yehmh\\ZF\\202403_georeferenced\\traps_images_seg_2\\segmented_T2S3.shp\n",
      "Segmented and saved T2S4.tif as \\Yehmh\\ZF\\202403_georeferenced\\traps_images_seg_2\\segmented_T2S4.shp\n",
      "Segmented and saved T2S5.tif as \\Yehmh\\ZF\\202403_georeferenced\\traps_images_seg_2\\segmented_T2S5.shp\n",
      "Segmented and saved T2S6.tif as \\Yehmh\\ZF\\202403_georeferenced\\traps_images_seg_2\\segmented_T2S6.shp\n",
      "Segmented and saved T2S7.tif as \\Yehmh\\ZF\\202403_georeferenced\\traps_images_seg_2\\segmented_T2S7.shp\n",
      "Segmented and saved T2S8.tif as \\Yehmh\\ZF\\202403_georeferenced\\traps_images_seg_2\\segmented_T2S8.shp\n",
      "Segmented and saved T2S9.tif as \\Yehmh\\ZF\\202403_georeferenced\\traps_images_seg_2\\segmented_T2S9.shp\n",
      "Segmented and saved T3S1.tif as \\Yehmh\\ZF\\202403_georeferenced\\traps_images_seg_2\\segmented_T3S1.shp\n",
      "Segmented and saved T3S10.tif as \\Yehmh\\ZF\\202403_georeferenced\\traps_images_seg_2\\segmented_T3S10.shp\n",
      "Segmented and saved T3S2.tif as \\Yehmh\\ZF\\202403_georeferenced\\traps_images_seg_2\\segmented_T3S2.shp\n",
      "Segmented and saved T3S3.tif as \\Yehmh\\ZF\\202403_georeferenced\\traps_images_seg_2\\segmented_T3S3.shp\n",
      "Segmented and saved T3S4.tif as \\Yehmh\\ZF\\202403_georeferenced\\traps_images_seg_2\\segmented_T3S4.shp\n",
      "Segmented and saved T3S5.tif as \\Yehmh\\ZF\\202403_georeferenced\\traps_images_seg_2\\segmented_T3S5.shp\n",
      "Segmented and saved T3S6.tif as \\Yehmh\\ZF\\202403_georeferenced\\traps_images_seg_2\\segmented_T3S6.shp\n",
      "Segmented and saved T3S7.tif as \\Yehmh\\ZF\\202403_georeferenced\\traps_images_seg_2\\segmented_T3S7.shp\n",
      "Segmented and saved T3S8.tif as \\Yehmh\\ZF\\202403_georeferenced\\traps_images_seg_2\\segmented_T3S8.shp\n",
      "Segmented and saved T3S9.tif as \\Yehmh\\ZF\\202403_georeferenced\\traps_images_seg_2\\segmented_T3S9.shp\n",
      "Segmentation and shapefile creation completed.\n"
     ]
    }
   ],
   "source": [
    "import os\n",
    "import torch\n",
    "import numpy as np\n",
    "import geopandas as gpd\n",
    "import cv2\n",
    "from PIL import Image\n",
    "from torchvision import transforms as T\n",
    "from segment_anything import SamAutomaticMaskGenerator, sam_model_registry\n",
    "from shapely.geometry import Polygon\n",
    "import rasterio\n",
    "from rasterio.transform import Affine\n",
    "\n",
    "# Set the directory for cropped images and the output directory for shapefiles\n",
    "cropped_images_dir = '\\\\Yehmh\\\\ZF\\\\202403_georeferenced\\\\traps_images_T4\\\\'\n",
    "shapefiles_dir = '\\\\Yehmh\\\\ZF\\\\202403_georeferenced\\\\traps_images_seg_2\\\\'\n",
    "os.makedirs(shapefiles_dir, exist_ok=True)\n",
    "\n",
    "# Load the SAM model\n",
    "sam_checkpoint = 'sam_vit_h_4b8939.pth'  # Path to your SAM checkpoint file\n",
    "model_type = \"vit_h\"  # SAM model type\n",
    "\n",
    "device = torch.device(\"cuda\" if torch.cuda.is_available() else \"cpu\")\n",
    "sam = sam_model_registry[model_type](checkpoint=sam_checkpoint)\n",
    "sam.to(device=device)\n",
    "\n",
    "# Initialize the automatic mask generator\n",
    "mask_generator = SamAutomaticMaskGenerator(sam)\n",
    "\n",
    "# Define a transformation for the images\n",
    "transform = T.Compose([\n",
    "    T.Resize((1024, 1024)),  # Resize to the input size expected by SAM\n",
    "    T.ToTensor(),\n",
    "])\n",
    "\n",
    "# Function to convert pixel coordinates to geographic (TM2) coordinates\n",
    "def pixel_to_tm2(pixel_coords, transform):\n",
    "    tm2_coords = [transform * (x, y) for x, y in pixel_coords]\n",
    "    return np.array(tm2_coords)\n",
    "\n",
    "# Function to segment an image and save as shapefile\n",
    "def segment_image_to_shapefile(image_path, output_path):\n",
    "    # Open the image using rasterio to get the affine transform\n",
    "    with rasterio.open(image_path) as src:\n",
    "        affine_transform = src.transform\n",
    "\n",
    "    image = Image.open(image_path).convert('RGB')\n",
    "    image_array = np.array(image)\n",
    "\n",
    "    with torch.no_grad():\n",
    "        # Generate masks using SAM Automatic Mask Generator\n",
    "        masks = mask_generator.generate(image_array)\n",
    "    \n",
    "    polygons = []\n",
    "    for mask in masks:\n",
    "        mask_np = mask['segmentation'].astype(np.uint8)\n",
    "        contours, _ = cv2.findContours(mask_np, cv2.RETR_EXTERNAL, cv2.CHAIN_APPROX_SIMPLE)\n",
    "        for contour in contours:\n",
    "            contour = contour.squeeze().reshape(-1, 2)\n",
    "            if len(contour) >= 3:  # at least 3 points to form a polygon\n",
    "                # Convert contour coordinates to TM2\n",
    "                tm2_coords = pixel_to_tm2(contour, affine_transform)\n",
    "                # Create Polygon object with TM2 coordinates\n",
    "                polygons.append(Polygon(tm2_coords))\n",
    "        \n",
    "    if polygons:\n",
    "        gdf = gpd.GeoDataFrame(geometry=polygons, crs=src.crs)\n",
    "        gdf.to_file(output_path)\n",
    "    else:\n",
    "        print(f'No valid polygons found in {image_path}')\n",
    "\n",
    "# Segment all cropped images and save as shapefiles\n",
    "for image_name in os.listdir(cropped_images_dir):\n",
    "    if image_name.endswith('.tif'):\n",
    "        image_path = os.path.join(cropped_images_dir, image_name)\n",
    "        output_path = os.path.join(shapefiles_dir, f'segmented_{os.path.splitext(image_name)[0]}.shp')\n",
    "        segment_image_to_shapefile(image_path, output_path)\n",
    "        print(f'Segmented and saved {image_name} as {output_path}')\n",
    "\n",
    "print('Segmentation and shapefile creation completed.')\n"
   ]
  },
  {
   "cell_type": "code",
   "execution_count": 4,
   "metadata": {},
   "outputs": [],
   "source": [
    "import torch\n",
    "torch.cuda.empty_cache()"
   ]
  },
  {
   "cell_type": "code",
   "execution_count": 6,
   "metadata": {},
   "outputs": [
    {
     "data": {
      "text/plain": [
       "3449"
      ]
     },
     "execution_count": 6,
     "metadata": {},
     "output_type": "execute_result"
    }
   ],
   "source": [
    "import gc\n",
    "gc.collect()"
   ]
  },
  {
   "cell_type": "code",
   "execution_count": 8,
   "metadata": {},
   "outputs": [
    {
     "name": "stdout",
     "output_type": "stream",
     "text": [
      "Merging shapefiles completed.\n"
     ]
    }
   ],
   "source": [
    "# merge all shape files\n",
    "\n",
    "import os\n",
    "import geopandas as gpd\n",
    "import pandas as pd\n",
    "\n",
    "# Directory containing the individual shapefiles\n",
    "shapefiles_dir = 'h:\\\\Yehmh\\\\ZF\\\\202403_georeferenced\\\\traps_images_seg\\\\'\n",
    "merged_shapefile_path = 'h:\\\\Yehmh\\\\ZF\\\\202403_georeferenced\\\\merged_traps_seg.shp'\n",
    "\n",
    "# Initialize an empty GeoDataFrame\n",
    "merged_gdf = gpd.GeoDataFrame()\n",
    "\n",
    "# Loop through the shapefiles and concatenate them\n",
    "for shapefile_name in os.listdir(shapefiles_dir):\n",
    "    if shapefile_name.endswith('.shp'):\n",
    "        shapefile_path = os.path.join(shapefiles_dir, shapefile_name)\n",
    "        gdf = gpd.read_file(shapefile_path)\n",
    "        merged_gdf = gpd.GeoDataFrame(pd.concat([merged_gdf, gdf], ignore_index=True))\n",
    "\n",
    "# Save the merged shapefile\n",
    "merged_gdf.to_file(merged_shapefile_path, driver='ESRI Shapefile')\n",
    "\n",
    "print('Merging shapefiles completed.')\n"
   ]
  }
 ],
 "metadata": {
  "kernelspec": {
   "display_name": "RS",
   "language": "python",
   "name": "python3"
  },
  "language_info": {
   "codemirror_mode": {
    "name": "ipython",
    "version": 3
   },
   "file_extension": ".py",
   "mimetype": "text/x-python",
   "name": "python",
   "nbconvert_exporter": "python",
   "pygments_lexer": "ipython3",
   "version": "3.8.19"
  }
 },
 "nbformat": 4,
 "nbformat_minor": 2
}
