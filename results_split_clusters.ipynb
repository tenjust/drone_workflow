{
 "cells": [
  {
   "cell_type": "code",
   "execution_count": 1,
   "metadata": {},
   "outputs": [
    {
     "name": "stdout",
     "output_type": "stream",
     "text": [
      "Separated CSV files saved in h:\\Yehmh\\FuShan\\Fushan_cluster_results_crop\n"
     ]
    }
   ],
   "source": [
    "import pandas as pd\n",
    "import os\n",
    "\n",
    "# Load the CSV file\n",
    "# csv_file = 'h:\\\\Yehmh\\\\ZF\\\\202307\\\\clustering_results\\\\clustering_results_51.csv'\n",
    "# csv_file = 'h:\\\\Yehmh\\\\FuShan\\\\clustering_results.csv'\n",
    "csv_file = 'h:\\\\Yehmh\\\\FuShan\\\\clustering_results_crop.csv'\n",
    "df = pd.read_csv(csv_file)\n",
    "\n",
    "# Directory to save the separated CSV files\n",
    "# output_dir = 'h:\\\\Yehmh\\\\ZF\\\\202307\\\\clustering_results\\\\clustering_results_51'\n",
    "# output_dir = 'h:\\\\Yehmh\\\\FuShan\\\\Fushan_cluster_results'\n",
    "output_dir = 'h:\\\\Yehmh\\\\FuShan\\\\Fushan_cluster_results_crop'\n",
    "os.makedirs(output_dir, exist_ok=True)\n",
    "\n",
    "# Group by 'id' and save each group into separate CSV files\n",
    "for cluster_value, group in df.groupby('cluster'):\n",
    "    group.to_csv(os.path.join(output_dir, f'{cluster_value}.csv'), index=False)\n",
    "\n",
    "print(f'Separated CSV files saved in {output_dir}')\n"
   ]
  },
  {
   "cell_type": "code",
   "execution_count": 2,
   "metadata": {},
   "outputs": [
    {
     "name": "stdout",
     "output_type": "stream",
     "text": [
      "Images organized in h:\\Yehmh\\FuShan\\Fushan_cluster_images_crop\n"
     ]
    }
   ],
   "source": [
    "import shutil\n",
    "\n",
    "# Directory containing the images\n",
    "# images_dir = 'h:\\\\Yehmh\\\\ZF\\\\202307\\\\5m_5m_51_rgb'\n",
    "images_dir = 'h:\\\\Yehmh\\\\FuShan\\\\Fushan_seg_images'\n",
    "# Directory to save the organized images\n",
    "# output_images_dir = 'h:\\\\Yehmh\\\\ZF\\\\202307\\\\5m_5m_51_rgb_clustered'\n",
    "# output_images_dir = 'h:\\\\Yehmh\\\\FuShan\\\\Fushan_cluster_images'\n",
    "output_images_dir = 'h:\\\\Yehmh\\\\FuShan\\\\Fushan_cluster_images_crop'\n",
    "os.makedirs(output_images_dir, exist_ok=True)\n",
    "\n",
    "# Iterate over the rows of the DataFrame\n",
    "for index, row in df.iterrows():\n",
    "    name = row['image_name']\n",
    "    x = row['x']\n",
    "    y = row['y']\n",
    "    cluster_value = row['cluster']\n",
    "    \n",
    "    # Image file name\n",
    "    # image_filename = f'{x}_{y}.tif'\n",
    "    image_filename = name\n",
    "    src_image_path = os.path.join(images_dir, image_filename)\n",
    "    \n",
    "    # Create the directory for the current id if it does not exist\n",
    "    id_dir = os.path.join(output_images_dir, str(cluster_value))\n",
    "    os.makedirs(id_dir, exist_ok=True)\n",
    "    \n",
    "    # Destination path\n",
    "    dest_image_path = os.path.join(id_dir, image_filename)\n",
    "    \n",
    "    # Copy the image to the destination directory\n",
    "    if os.path.exists(src_image_path):\n",
    "        shutil.copy(src_image_path, dest_image_path)\n",
    "    else:\n",
    "        print(f\"Image {image_filename} not found in {images_dir}\")\n",
    "\n",
    "print(f'Images organized in {output_images_dir}')\n"
   ]
  }
 ],
 "metadata": {
  "kernelspec": {
   "display_name": "RS",
   "language": "python",
   "name": "python3"
  },
  "language_info": {
   "codemirror_mode": {
    "name": "ipython",
    "version": 3
   },
   "file_extension": ".py",
   "mimetype": "text/x-python",
   "name": "python",
   "nbconvert_exporter": "python",
   "pygments_lexer": "ipython3",
   "version": "3.8.19"
  }
 },
 "nbformat": 4,
 "nbformat_minor": 2
}
