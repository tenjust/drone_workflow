{
 "cells": [
  {
   "cell_type": "code",
   "execution_count": null,
   "metadata": {},
   "outputs": [],
   "source": [
    "import pandas as pd\n",
    "import rasterio\n",
    "from shapely.geometry import box\n",
    "\n",
    "# Load the CSV file\n",
    "csv_file = 'coordinates.csv'  # Replace with your CSV file path\n",
    "coordinates_df = pd.read_csv(csv_file)\n",
    "\n",
    "# Function to crop the image\n",
    "def crop_image(image_path, x, y, width, height, output_path):\n",
    "    with rasterio.open(image_path) as src:\n",
    "        # Calculate the crop window\n",
    "        left = x - 10\n",
    "        bottom = y - 130\n",
    "        right = left + width\n",
    "        top = bottom + height\n",
    "        crop_box = box(left, bottom, right, top)\n",
    "        \n",
    "        # Transform crop box to image coordinates\n",
    "        crop_window = rasterio.features.geometry_window(src, [crop_box], precision=3)\n",
    "        \n",
    "        # Crop the image\n",
    "        cropped_image = src.read(window=crop_window)\n",
    "        \n",
    "        # Update the metadata to reflect the new shape\n",
    "        meta = src.meta.copy()\n",
    "        meta.update({\n",
    "            \"height\": crop_window.height,\n",
    "            \"width\": crop_window.width,\n",
    "            \"transform\": rasterio.windows.transform(crop_window, src.transform)\n",
    "        })\n",
    "        \n",
    "        # Save the cropped image\n",
    "        with rasterio.open(output_path, 'w', **meta) as dst:\n",
    "            dst.write(cropped_image)\n",
    "\n",
    "# Loop through the coordinates and crop the image\n",
    "image_path = 'input.tif'  # Replace with your TIF image path\n",
    "output_dir = 'output'  # Directory to save the cropped images\n",
    "\n",
    "for index, row in coordinates_df.iterrows():\n",
    "    twd97_x = row['TWD97_X']\n",
    "    twd97_y = row['TWD97_Y']\n",
    "    \n",
    "    output_path = f\"{output_dir}/crop_{index}.tif\"\n",
    "    crop_image(image_path, twd97_x, twd97_y, 40, 120, output_path)\n"
   ]
  }
 ],
 "metadata": {
  "language_info": {
   "name": "python"
  }
 },
 "nbformat": 4,
 "nbformat_minor": 2
}
