{
 "cells": [
  {
   "cell_type": "code",
   "execution_count": 4,
   "metadata": {},
   "outputs": [],
   "source": [
    "import geopandas as gpd\n",
    "from shapely.geometry import mapping\n",
    "import rasterio\n",
    "from rasterio.features import geometry_mask\n",
    "import numpy as np\n",
    "from sklearn.cluster import DBSCAN\n",
    "\n",
    "# Read the polygon shapefile\n",
    "polygons = gpd.read_file('h:\\\\Yehmh\\\\DNDF\\\\101_1_focus\\\\202404_101_seg_shp_labeled\\\\DNDF101_clip_seg_labeled.shp')\n",
    "tif_file = 'h:\\\\Yehmh\\\\DNDF\\\\101_1_focus\\\\DNDF101_clip.tif'\n",
    "\n",
    "# Open the TIF file\n",
    "with rasterio.open(tif_file) as src:\n",
    "    image_data = src.read(1)\n",
    "    transform = src.transform\n",
    "\n",
    "# Function to extract image data within a polygon\n",
    "def extract_polygon_data(polygon, image_data, transform):\n",
    "    mask = rasterio.features.geometry_mask([mapping(polygon)], transform=transform, invert=True, out_shape=image_data.shape)\n",
    "    return image_data[mask]\n",
    "\n",
    "# List to store cluster labels for each polygon\n",
    "cluster_labels = []\n",
    "\n",
    "# Extract image data for each polygon and perform clustering\n",
    "for polygon in polygons.geometry:\n",
    "    data = extract_polygon_data(polygon, image_data, transform)\n",
    "    data = data.reshape(-1, 1)  # Reshape data for clustering\n",
    "    \n",
    "    if len(data) > 0:\n",
    "        # Apply DBSCAN clustering\n",
    "        dbscan = DBSCAN(eps=0.3, min_samples=10)  # Adjust eps and min_samples as needed\n",
    "        dbscan.fit(data)\n",
    "        # Take the most common cluster label\n",
    "        labels, counts = np.unique(dbscan.labels_, return_counts=True)\n",
    "        cluster_label = labels[np.argmax(counts)]\n",
    "    else:\n",
    "        cluster_label = -1  # Assign a special label if no data was extracted\n",
    "    \n",
    "    cluster_labels.append(cluster_label)\n",
    "\n",
    "# Add cluster labels to the GeoDataFrame\n",
    "polygons['cluster'] = cluster_labels\n",
    "\n",
    "# Save the new shapefile with cluster information\n",
    "polygons.to_file('h:\\\\Yehmh\\\\DNDF\\\\101_1_focus\\\\202404_101_seg_shp_labeled_clustered\\\\DNDF101_clip_seg_labeled_clustered.shp')\n"
   ]
  }
 ],
 "metadata": {
  "kernelspec": {
   "display_name": "RS",
   "language": "python",
   "name": "python3"
  },
  "language_info": {
   "codemirror_mode": {
    "name": "ipython",
    "version": 3
   },
   "file_extension": ".py",
   "mimetype": "text/x-python",
   "name": "python",
   "nbconvert_exporter": "python",
   "pygments_lexer": "ipython3",
   "version": "3.8.19"
  }
 },
 "nbformat": 4,
 "nbformat_minor": 2
}
