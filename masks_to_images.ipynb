{
 "cells": [
  {
   "cell_type": "code",
   "execution_count": 4,
   "metadata": {},
   "outputs": [],
   "source": [
    "import geopandas as gpd\n",
    "import rasterio\n",
    "from rasterio.mask import mask\n",
    "from shapely.geometry import box\n",
    "import os\n",
    "\n",
    "\n",
    "def masks_to_images(shapefile_path, tif_path, output_folder):\n",
    "    # Create the output folder if it doesn't exist\n",
    "    os.makedirs(output_folder, exist_ok=True)\n",
    "\n",
    "    # Read the shapefile\n",
    "    gdf = gpd.read_file(shapefile_path)\n",
    "\n",
    "    # Read the raster file\n",
    "    with rasterio.open(tif_path) as src:\n",
    "        # Loop through each polygon in the shapefile\n",
    "        for idx, row in gdf.iterrows():\n",
    "            # Get the geometry of the polygon\n",
    "            geom = row['geometry']\n",
    "            \n",
    "            # Use the geometry to crop the raster\n",
    "            out_image, out_transform = mask(src, [geom], crop=True)\n",
    "            out_meta = src.meta.copy()\n",
    "            \n",
    "            # Update the metadata to reflect the new shape\n",
    "            out_meta.update({\n",
    "                \"driver\": \"GTiff\",\n",
    "                \"height\": out_image.shape[1],\n",
    "                \"width\": out_image.shape[2],\n",
    "                \"transform\": out_transform\n",
    "            })\n",
    "            \n",
    "            # Define the output file path\n",
    "            output_file = os.path.join(output_folder, f'{idx}.tif')\n",
    "            \n",
    "            # Save the cropped image\n",
    "            with rasterio.open(output_file, \"w\", **out_meta) as dest:\n",
    "                dest.write(out_image)\n",
    "\n",
    "    print(f\"Cropped images saved in {output_folder}\")\n"
   ]
  },
  {
   "cell_type": "code",
   "execution_count": null,
   "metadata": {},
   "outputs": [],
   "source": [
    "# Paths to the input files\n",
    "shapefile_path = 'h:\\\\Yehmh\\\\FuShan\\\\Fushan_seg_results\\\\202403_rgb_masks_cuda_noEdge_2up.shp'\n",
    "tif_path = 'h:\\\\Yehmh\\\\FuShan\\\\202403\\\\result.tif'\n",
    "output_folder = 'h:\\\\Yehmh\\\\FuShan\\\\Fushan_seg_images'\n",
    "\n",
    "# Call the function\n",
    "masks_to_images(shapefile_path, tif_path, output_folder)\n",
    "print(\"Done!\")"
   ]
  },
  {
   "cell_type": "code",
   "execution_count": 3,
   "metadata": {},
   "outputs": [
    {
     "name": "stdout",
     "output_type": "stream",
     "text": [
      "Cropped images saved in h:\\Yehmh\\DNDF\\101_1_focus\\202404_101_seg_images\n",
      "Done!\n"
     ]
    }
   ],
   "source": [
    "# Paths to the input files\n",
    "shapefile_path = 'h:\\\\Yehmh\\\\DNDF\\\\101_1_focus\\\\202404_101_seg_shp\\\\DNDF101_clip_seg.shp'\n",
    "tif_path = 'h:\\\\Yehmh\\\\DNDF\\\\101_1_focus\\\\DNDF101_clip.tif'\n",
    "output_folder = 'h:\\\\Yehmh\\\\DNDF\\\\101_1_focus\\\\202404_101_seg_images'\n",
    "\n",
    "# Call the function\n",
    "masks_to_images(shapefile_path, tif_path, output_folder)\n",
    "print(\"Done!\")"
   ]
  },
  {
   "cell_type": "code",
   "execution_count": 5,
   "metadata": {},
   "outputs": [
    {
     "name": "stdout",
     "output_type": "stream",
     "text": [
      "Cropped images saved in h:\\Yehmh\\DNDF\\101_1_focus\\202404_101_seg_images_known\n",
      "Done!\n"
     ]
    }
   ],
   "source": [
    "# Paths to the input files\n",
    "shapefile_path = 'h:\\\\Yehmh\\\\DNDF\\\\101_1_focus\\\\202404_101_seg_shp_labeled\\\\DNDF101_clip_seg_labeled.shp'\n",
    "tif_path = 'h:\\\\Yehmh\\\\DNDF\\\\101_1_focus\\\\DNDF101_clip.tif'\n",
    "output_folder = 'h:\\\\Yehmh\\\\DNDF\\\\101_1_focus\\\\202404_101_seg_images_known'\n",
    "\n",
    "# Call the function\n",
    "masks_to_images(shapefile_path, tif_path, output_folder)\n",
    "print(\"Done!\")"
   ]
  }
 ],
 "metadata": {
  "kernelspec": {
   "display_name": "RS",
   "language": "python",
   "name": "python3"
  },
  "language_info": {
   "codemirror_mode": {
    "name": "ipython",
    "version": 3
   },
   "file_extension": ".py",
   "mimetype": "text/x-python",
   "name": "python",
   "nbconvert_exporter": "python",
   "pygments_lexer": "ipython3",
   "version": "3.8.19"
  }
 },
 "nbformat": 4,
 "nbformat_minor": 2
}
