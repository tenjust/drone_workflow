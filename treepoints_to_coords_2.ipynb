{
 "cells": [
  {
   "cell_type": "code",
   "execution_count": 1,
   "metadata": {},
   "outputs": [],
   "source": [
    "import math\n",
    "import pandas as pd\n",
    "import numpy as np\n",
    "\n",
    "def calculate_angle(point1, point2):\n",
    "    dx = point2[0] - point1[0]\n",
    "    dy = point2[1] - point1[1]\n",
    "    angle_rad = math.atan2(dy, dx)\n",
    "    angle_deg = math.degrees(angle_rad)\n",
    "    return angle_deg\n",
    "\n",
    "def rotate_point(point, angle_rad):\n",
    "    # Perform rotation using rotation matrix\n",
    "    rotated_x = point[0] * math.cos(angle_rad) - point[1] * math.sin(angle_rad)\n",
    "    rotated_y = point[0] * math.sin(angle_rad) + point[1] * math.cos(angle_rad)\n",
    "    return rotated_x, rotated_y\n",
    "\n",
    "csv_file_path = 'h:\\\\Yehmh\\\\DNDF\\\\101_1_focus\\\\101_1_50wan_00.csv'\n",
    "df = pd.read_csv(csv_file_path)\n",
    "\n",
    "# Example points\n",
    "point1 = (292177.4059, 2612861.011)\n",
    "point2 = (292277.984, 2612866.061)\n",
    "\n",
    "# Calculate angle between the line connecting the points and the horizontal line\n",
    "angle_rad = math.atan2(point2[1] - point1[1], point2[0] - point1[0])\n",
    "\n",
    "# Vectorized translation and rotation using pandas operations\n",
    "x = df['TWD97_X'] - point1[0]\n",
    "y = df['TWD97_Y'] - point1[1]\n",
    "x_rotated, y_rotated = rotate_point((x, y), angle_rad)\n",
    "\n",
    "# Update the dataframe with rotated coordinates and translate back\n",
    "df['TWD97_X'] = x_rotated + point1[0]\n",
    "df['TWD97_Y'] = y_rotated + point1[1]\n",
    "\n",
    "# Save the modified dataframe to a new CSV file\n",
    "df.to_csv(f'h:\\\\Yehmh\\\\DNDF\\\\101_1_focus\\\\101_1_50wan_rotated.csv', index=False)\n"
   ]
  }
 ],
 "metadata": {
  "kernelspec": {
   "display_name": "RS",
   "language": "python",
   "name": "python3"
  },
  "language_info": {
   "codemirror_mode": {
    "name": "ipython",
    "version": 3
   },
   "file_extension": ".py",
   "mimetype": "text/x-python",
   "name": "python",
   "nbconvert_exporter": "python",
   "pygments_lexer": "ipython3",
   "version": "3.8.19"
  }
 },
 "nbformat": 4,
 "nbformat_minor": 2
}
